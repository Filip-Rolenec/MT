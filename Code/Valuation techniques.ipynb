{
 "cells": [
  {
   "cell_type": "markdown",
   "metadata": {},
   "source": [
    "# Valuation techniques\n",
    "- In this file, examples of valuation techniques with real values will be implemented. "
   ]
  },
  {
   "cell_type": "code",
   "execution_count": 5,
   "metadata": {},
   "outputs": [],
   "source": [
    "import numpy as np\n",
    "import numpy_financial as npf"
   ]
  },
  {
   "cell_type": "markdown",
   "metadata": {},
   "source": [
    "## NPV - Classic \n",
    "- Net present value as a sum of discounted cash flow with constant discount rate. "
   ]
  },
  {
   "cell_type": "code",
   "execution_count": 38,
   "metadata": {},
   "outputs": [
    {
     "data": {
      "text/plain": [
       "array([-1000,   100,   100,   100,   100,   100,   100,   100,   100,\n",
       "         100,   100,   100,   100,   100,   100])"
      ]
     },
     "execution_count": 38,
     "metadata": {},
     "output_type": "execute_result"
    }
   ],
   "source": [
    "rate = 0.1\n",
    "cash_flows = np.insert(np.repeat(100,14),0,-1000)\n",
    "cash_flows"
   ]
  },
  {
   "cell_type": "code",
   "execution_count": 39,
   "metadata": {},
   "outputs": [
    {
     "data": {
      "text/plain": [
       "-263.3312543060805"
      ]
     },
     "execution_count": 39,
     "metadata": {},
     "output_type": "execute_result"
    }
   ],
   "source": [
    "npf.npv(rate, cash_flows)"
   ]
  },
  {
   "cell_type": "markdown",
   "metadata": {},
   "source": [
    "## NPV - variable interest rate\n",
    "- Now the interest rate is variable but still expected to be known. \n"
   ]
  },
  {
   "cell_type": "code",
   "execution_count": 26,
   "metadata": {},
   "outputs": [],
   "source": [
    "def get_NPV_variable_IR(cash_flows, interest_rates): \n",
    "    if(len(cash_flows)!=len(interest_rates)): \n",
    "        Exception(\"The length of cash flow vector is different from the length of the interest rate vector...\")\n",
    "    \n",
    "    current_discount = 1\n",
    "    NPV = 0\n",
    "    \n",
    "    for i in range(len(cash_flows)):\n",
    "        print(interest_rates[i])\n",
    "        print(cash_flows[i])\n",
    "        print(NPV)\n",
    "        current_value = cash_flows[i]/current_discount\n",
    "        NPV = NPV + current_value\n",
    "        current_discount = current_discount*(1+interest_rates[i])\n",
    "        \n",
    "    return(NPV)"
   ]
  },
  {
   "cell_type": "code",
   "execution_count": 29,
   "metadata": {},
   "outputs": [
    {
     "data": {
      "text/plain": [
       "array([0.1  , 0.097, 0.094, 0.091, 0.088, 0.085, 0.082, 0.079, 0.076,\n",
       "       0.073, 0.07 , 0.067, 0.064, 0.061, 0.058])"
      ]
     },
     "metadata": {},
     "output_type": "display_data"
    },
    {
     "data": {
      "text/plain": [
       "array([-1000,   100,   100,   100,   100,   100,   100,   100,   100,\n",
       "         100,   100,   100,   100,   100,   100])"
      ]
     },
     "execution_count": 29,
     "metadata": {},
     "output_type": "execute_result"
    }
   ],
   "source": [
    "interest_rates = np.linspace(0.1,0.058,15)\n",
    "display(interest_rates)\n",
    "cash_flows = np.insert(np.repeat(100,14),0,-1000)\n",
    "cash_flows"
   ]
  },
  {
   "cell_type": "code",
   "execution_count": 30,
   "metadata": {
    "collapsed": true
   },
   "outputs": [
    {
     "name": "stdout",
     "output_type": "stream",
     "text": [
      "0.1\n",
      "-1000\n",
      "0\n",
      "0.097\n",
      "100\n",
      "-1000.0\n",
      "0.094\n",
      "100\n",
      "-909.0909090909091\n",
      "0.091\n",
      "100\n",
      "-826.2202701582829\n",
      "0.08800000000000001\n",
      "100\n",
      "-750.470143163195\n",
      "0.085\n",
      "100\n",
      "-681.0383127368999\n",
      "0.082\n",
      "100\n",
      "-617.2222921244963\n",
      "0.079\n",
      "100\n",
      "-558.4056832651382\n",
      "0.07600000000000001\n",
      "100\n",
      "-504.0465253544561\n",
      "0.07300000000000001\n",
      "100\n",
      "-453.66732432509355\n",
      "0.07\n",
      "100\n",
      "-406.8465055245708\n",
      "0.067\n",
      "100\n",
      "-363.2110732780444\n",
      "0.064\n",
      "100\n",
      "-322.4302954775525\n",
      "0.061000000000000006\n",
      "100\n",
      "-284.2102600506622\n",
      "0.058\n",
      "100\n",
      "-248.28917412313376\n"
     ]
    },
    {
     "data": {
      "text/plain": [
       "-214.43329671735762"
      ]
     },
     "execution_count": 30,
     "metadata": {},
     "output_type": "execute_result"
    }
   ],
   "source": [
    "get_NPV_variable_IR(cash_flows,interest_rates)"
   ]
  },
  {
   "cell_type": "markdown",
   "metadata": {},
   "source": [
    "## IRR \n",
    "- Internal rate of return \n",
    "- The reason for adding this metric is that I want to know why would anybody use NPV or IRR because I think they are the same metrics. \n",
    "- They might order different cash inflows in the same way, but the interpretation is different. "
   ]
  },
  {
   "cell_type": "code",
   "execution_count": 52,
   "metadata": {},
   "outputs": [],
   "source": [
    "cashflow1 = [-100, 39, 59, 55, 20]\n",
    "cashflow2 = [-100, -10, 15, 207.38]\n",
    "cashflow3 = [-100,50,30,20,96]\n",
    "cashflow4 = [-100,0,0,0,400]\n",
    "cashflow5 = [-100,300,0,0,0]"
   ]
  },
  {
   "cell_type": "code",
   "execution_count": 53,
   "metadata": {},
   "outputs": [
    {
     "name": "stdout",
     "output_type": "stream",
     "text": [
      "0.28095\n",
      "0.28096\n",
      "0.29415\n",
      "0.41421\n",
      "2.0\n"
     ]
    }
   ],
   "source": [
    "print(round(npf.irr(cashflow1), 5))\n",
    "print(round(npf.irr(cashflow2), 5))\n",
    "print(round(npf.irr(cashflow3), 5))\n",
    "print(round(npf.irr(cashflow4), 5))\n",
    "print(round(npf.irr(cashflow5), 5))"
   ]
  },
  {
   "cell_type": "code",
   "execution_count": 54,
   "metadata": {},
   "outputs": [
    {
     "name": "stdout",
     "output_type": "stream",
     "text": [
      "55.0\n",
      "83.0\n",
      "71.0\n",
      "229.0\n",
      "186.0\n"
     ]
    }
   ],
   "source": [
    "print(round(npf.npv(0.05,cashflow1)))\n",
    "print(round(npf.npv(0.05,cashflow2)))\n",
    "print(round(npf.npv(0.05,cashflow3)))\n",
    "print(round(npf.npv(0.05,cashflow4)))\n",
    "print(round(npf.npv(0.05,cashflow5)))"
   ]
  },
  {
   "cell_type": "markdown",
   "metadata": {},
   "source": [
    "It seems like IRR represents our attitude towards cash flows futhere in the future. The classic NPV metric only tries to acknowledge the time value of money. IRR simply states, how would money have to depreciate in value so that I would be even with this investment. It does not say much about how much money will the investment gave me. \n",
    "\n",
    "Examples with cash flows 4 and 5 tell it quite nice. By IRR valuation technique it is \"5 times\" better to go with the investment with cashflow 5, even though if the cash depreciates only 5% a year, the cashflow 4 is better by ~16%. This might reflect the intrinsic uncertainty about more future cash flows, but from a rigorous point of view, that does not make sense. \n",
    "\n",
    "It would be interesting to ask evzen about this. What does he think about it. How would he compare those two investments, which one would he undertake and why. "
   ]
  },
  {
   "cell_type": "code",
   "execution_count": null,
   "metadata": {},
   "outputs": [],
   "source": []
  }
 ],
 "metadata": {
  "kernelspec": {
   "display_name": "Python 3",
   "language": "python",
   "name": "python3"
  },
  "language_info": {
   "codemirror_mode": {
    "name": "ipython",
    "version": 3
   },
   "file_extension": ".py",
   "mimetype": "text/x-python",
   "name": "python",
   "nbconvert_exporter": "python",
   "pygments_lexer": "ipython3",
   "version": "3.7.4"
  }
 },
 "nbformat": 4,
 "nbformat_minor": 2
}
