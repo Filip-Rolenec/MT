{
 "cells": [
  {
   "cell_type": "markdown",
   "metadata": {},
   "source": [
    "# Valuation techniques\n",
    "- In this file, examples of valuation techniques with real values will be implemented. "
   ]
  },
  {
   "cell_type": "code",
   "execution_count": 2,
   "metadata": {},
   "outputs": [],
   "source": [
    "import numpy as np"
   ]
  },
  {
   "cell_type": "markdown",
   "metadata": {},
   "source": [
    "## NPV - Classic \n",
    "- Net present value as a sum of discounted cash flow with constant discount rate. "
   ]
  },
  {
   "cell_type": "code",
   "execution_count": 3,
   "metadata": {},
   "outputs": [
    {
     "data": {
      "text/plain": [
       "array([-1000,   100,   100,   100,   100,   100,   100,   100,   100,\n",
       "         100,   100,   100,   100,   100,   100])"
      ]
     },
     "execution_count": 3,
     "metadata": {},
     "output_type": "execute_result"
    }
   ],
   "source": [
    "interest_rate = 0.1\n",
    "cash_flows = np.insert(np.repeat(100,14),0,-1000)\n",
    "cash_flows"
   ]
  },
  {
   "cell_type": "code",
   "execution_count": 4,
   "metadata": {},
   "outputs": [],
   "source": [
    "def get_NPV_classic(cash_flows, interest_rate): \n",
    "    current_discount = 1\n",
    "    NPV = 0\n",
    "    \n",
    "    for v in cash_flows:\n",
    "        current_value = v/current_discount\n",
    "        NPV = NPV + current_value\n",
    "        current_discount = current_discount*(1+interest_rate)\n",
    "        \n",
    "    return(NPV)\n",
    "        "
   ]
  },
  {
   "cell_type": "code",
   "execution_count": 5,
   "metadata": {},
   "outputs": [
    {
     "data": {
      "text/plain": [
       "-263.3312543060804"
      ]
     },
     "execution_count": 5,
     "metadata": {},
     "output_type": "execute_result"
    }
   ],
   "source": [
    "get_NPV(cash_flows, 0.10)"
   ]
  },
  {
   "cell_type": "markdown",
   "metadata": {},
   "source": [
    "## NPV - variable interest rate\n",
    "- Now the interest rate is variable but still expected to be known. \n"
   ]
  },
  {
   "cell_type": "code",
   "execution_count": 26,
   "metadata": {},
   "outputs": [],
   "source": [
    "def get_NPV_variable_IR(cash_flows, interest_rates): \n",
    "    if(len(cash_flows)!=len(interest_rates)): \n",
    "        Exception(\"The length of cash flow vector is different from the length of the interest rate vector...\")\n",
    "    \n",
    "    current_discount = 1\n",
    "    NPV = 0\n",
    "    \n",
    "    for i in range(len(cash_flows)):\n",
    "        print(interest_rates[i])\n",
    "        print(cash_flows[i])\n",
    "        print(NPV)\n",
    "        current_value = cash_flows[i]/current_discount\n",
    "        NPV = NPV + current_value\n",
    "        current_discount = current_discount*(1+interest_rates[i])\n",
    "        \n",
    "    return(NPV)"
   ]
  },
  {
   "cell_type": "code",
   "execution_count": 29,
   "metadata": {},
   "outputs": [
    {
     "data": {
      "text/plain": [
       "array([0.1  , 0.097, 0.094, 0.091, 0.088, 0.085, 0.082, 0.079, 0.076,\n",
       "       0.073, 0.07 , 0.067, 0.064, 0.061, 0.058])"
      ]
     },
     "metadata": {},
     "output_type": "display_data"
    },
    {
     "data": {
      "text/plain": [
       "array([-1000,   100,   100,   100,   100,   100,   100,   100,   100,\n",
       "         100,   100,   100,   100,   100,   100])"
      ]
     },
     "execution_count": 29,
     "metadata": {},
     "output_type": "execute_result"
    }
   ],
   "source": [
    "interest_rates = np.linspace(0.1,0.058,15)\n",
    "display(interest_rates)\n",
    "cash_flows = np.insert(np.repeat(100,14),0,-1000)\n",
    "cash_flows"
   ]
  },
  {
   "cell_type": "code",
   "execution_count": 30,
   "metadata": {},
   "outputs": [
    {
     "name": "stdout",
     "output_type": "stream",
     "text": [
      "0.1\n",
      "-1000\n",
      "0\n",
      "0.097\n",
      "100\n",
      "-1000.0\n",
      "0.094\n",
      "100\n",
      "-909.0909090909091\n",
      "0.091\n",
      "100\n",
      "-826.2202701582829\n",
      "0.08800000000000001\n",
      "100\n",
      "-750.470143163195\n",
      "0.085\n",
      "100\n",
      "-681.0383127368999\n",
      "0.082\n",
      "100\n",
      "-617.2222921244963\n",
      "0.079\n",
      "100\n",
      "-558.4056832651382\n",
      "0.07600000000000001\n",
      "100\n",
      "-504.0465253544561\n",
      "0.07300000000000001\n",
      "100\n",
      "-453.66732432509355\n",
      "0.07\n",
      "100\n",
      "-406.8465055245708\n",
      "0.067\n",
      "100\n",
      "-363.2110732780444\n",
      "0.064\n",
      "100\n",
      "-322.4302954775525\n",
      "0.061000000000000006\n",
      "100\n",
      "-284.2102600506622\n",
      "0.058\n",
      "100\n",
      "-248.28917412313376\n"
     ]
    },
    {
     "data": {
      "text/plain": [
       "-214.43329671735762"
      ]
     },
     "execution_count": 30,
     "metadata": {},
     "output_type": "execute_result"
    }
   ],
   "source": [
    "get_NPV_variable_IR(cash_flows,interest_rates)"
   ]
  },
  {
   "cell_type": "code",
   "execution_count": null,
   "metadata": {},
   "outputs": [],
   "source": []
  }
 ],
 "metadata": {
  "kernelspec": {
   "display_name": "Python 3",
   "language": "python",
   "name": "python3"
  },
  "language_info": {
   "codemirror_mode": {
    "name": "ipython",
    "version": 3
   },
   "file_extension": ".py",
   "mimetype": "text/x-python",
   "name": "python",
   "nbconvert_exporter": "python",
   "pygments_lexer": "ipython3",
   "version": "3.7.4"
  }
 },
 "nbformat": 4,
 "nbformat_minor": 2
}
