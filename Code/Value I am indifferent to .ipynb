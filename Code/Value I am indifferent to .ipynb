{
 "cells": [
  {
   "cell_type": "markdown",
   "metadata": {},
   "source": [
    "# NPV+\n",
    "- In this file I will setup a numerical computation of a value I should be indifferent to (given my abilities to borrow and invest in risk-free rate assets) having now and later in the future. \n",
    "- This should be an objective value. Utility function does not concern time. \n",
    "- It could be said that some people are also future averse, they believe that having money now is better disregarding the ability to borrow. \n"
   ]
  },
  {
   "cell_type": "code",
   "execution_count": 1,
   "metadata": {},
   "outputs": [],
   "source": [
    "import numpy as np\n",
    "import pandas as pd"
   ]
  },
  {
   "cell_type": "code",
   "execution_count": 2,
   "metadata": {},
   "outputs": [],
   "source": [
    "assets = 500\n",
    "NPV_plus = 0             # The value we are indifferent to \n",
    "loan = NPV_plus-assets # The value we need to borrow to be able to pay for the future cash flows. \n",
    "r_b = 0.1              # Interest rate of bonds\n",
    "r_l = 2/11             # Interest rate of a loan"
   ]
  },
  {
   "cell_type": "code",
   "execution_count": 46,
   "metadata": {},
   "outputs": [],
   "source": [
    "cash_flow = [1100,1100,1100,1100]"
   ]
  },
  {
   "cell_type": "code",
   "execution_count": 4,
   "metadata": {},
   "outputs": [],
   "source": [
    "def get_bound(cash_flow,r):\n",
    "    discount = (1+r)\n",
    "    money_sum = 0 \n",
    "    for cash in cash_flow: \n",
    "        money_sum += cash/discount\n",
    "        discount *= (1+r)\n",
    "        \n",
    "    return money_sum"
   ]
  },
  {
   "cell_type": "code",
   "execution_count": 5,
   "metadata": {},
   "outputs": [
    {
     "data": {
      "text/plain": [
       "1909.0909090909088"
      ]
     },
     "execution_count": 5,
     "metadata": {},
     "output_type": "execute_result"
    }
   ],
   "source": [
    "get_bound(cash_flow,r_b) # This is the upper bound, any walue higher than this would result in logical investment in bonds making more money than 1100 and 1100"
   ]
  },
  {
   "cell_type": "code",
   "execution_count": 6,
   "metadata": {},
   "outputs": [
    {
     "data": {
      "text/plain": [
       "1718.343195266272"
      ]
     },
     "execution_count": 6,
     "metadata": {},
     "output_type": "execute_result"
    }
   ],
   "source": [
    "get_bound(cash_flow, r_l) # This is the lower bound. Lower amount of money could be borrowed now and repayed by the future cash flows with some cash left over.  "
   ]
  },
  {
   "cell_type": "markdown",
   "metadata": {},
   "source": [
    "Now we have the upper and lower bound on which we can perform the interval halving method of finding the result of the equation "
   ]
  },
  {
   "cell_type": "code",
   "execution_count": 82,
   "metadata": {},
   "outputs": [],
   "source": [
    "def result_of_investment(cash_flows, r_b, r_l, assets, NPV_plus): \n",
    "    loan = NPV_plus-assets\n",
    "    \n",
    "    remaining_loan = loan \n",
    "    \n",
    "    profits = 0 \n",
    "    \n",
    "    for cash in cash_flows: \n",
    "        remaining_loan *= (1+r_l)\n",
    "        profits *= (1+ r_b)\n",
    "        \n",
    "        if(remaining_loan<cash): \n",
    "            profits+=(cash-remaining_loan)\n",
    "            remaining_loan = 0\n",
    "        else:\n",
    "            remaining_loan -=cash\n",
    "            \n",
    "    return profits\n",
    "        "
   ]
  },
  {
   "cell_type": "code",
   "execution_count": 8,
   "metadata": {},
   "outputs": [
    {
     "data": {
      "text/plain": [
       "2310.0"
      ]
     },
     "execution_count": 8,
     "metadata": {},
     "output_type": "execute_result"
    }
   ],
   "source": [
    "result_of_investment(cash_flow, r_b, r_l, 1950, 1950)"
   ]
  },
  {
   "cell_type": "code",
   "execution_count": 57,
   "metadata": {},
   "outputs": [],
   "source": [
    "def indifferent_to(cash_flow, r_b, r_l, assets, eps): \n",
    "    \n",
    "    certain_at_horizon = assets*((1+r_b)**len(cash_flow))\n",
    "    \n",
    "    lower_bound = get_bound(cash_flow,r_l)\n",
    "    upper_bound = get_bound(cash_flow,r_b)\n",
    "    \n",
    "    current_guess = (lower_bound+upper_bound)/2\n",
    "    result = 0\n",
    "    \n",
    "    \n",
    "    while abs(result-certain_at_horizon)>eps: \n",
    "        result = result_of_investment(cash_flow, r_b, r_l, assets, current_guess)\n",
    "        mid = (lower_bound+upper_bound)/2\n",
    "        if(result > certain_at_horizon): \n",
    "            lower_bound = mid\n",
    "            current_guess = (lower_bound+upper_bound)/2\n",
    "        else: \n",
    "            upper_bound = mid\n",
    "            current_guess = (lower_bound+upper_bound)/2\n",
    "        print(\"Result \" + str(result))\n",
    "        print(\"Upper \" + str(upper_bound))\n",
    "        print(\"Lower \" + str(lower_bound))\n",
    "        print(\"Guess \" + str(current_guess))\n",
    "        print(\"Diff \" + str(result-certain_at_horizon))\n",
    "    \n",
    "    return current_guess"
   ]
  },
  {
   "cell_type": "code",
   "execution_count": 88,
   "metadata": {},
   "outputs": [],
   "source": [
    "cash_flow = [1100,500,100,-50]"
   ]
  },
  {
   "cell_type": "code",
   "execution_count": 92,
   "metadata": {},
   "outputs": [
    {
     "name": "stdout",
     "output_type": "stream",
     "text": [
      "Result 780.771542242051\n",
      "Upper 1454.2039478177717\n",
      "Lower 1388.9564257838201\n",
      "Guess 1421.580186800796\n",
      "Diff 48.72154224205087\n",
      "Result 729.4543661623483\n",
      "Upper 1421.580186800796\n",
      "Lower 1388.9564257838201\n",
      "Guess 1405.268306292308\n",
      "Diff -2.595633837651917\n",
      "Result 755.1129542021996\n",
      "Upper 1421.580186800796\n",
      "Lower 1405.268306292308\n",
      "Guess 1413.4242465465518\n",
      "Diff 23.06295420219942\n",
      "Result 742.2836601822742\n",
      "Upper 1421.580186800796\n",
      "Lower 1413.4242465465518\n",
      "Guess 1417.502216673674\n",
      "Diff 10.23366018227398\n",
      "Result 735.869013172311\n",
      "Upper 1421.580186800796\n",
      "Lower 1417.502216673674\n",
      "Guess 1419.541201737235\n",
      "Diff 3.8190131723108607\n",
      "Result 732.6616896673294\n",
      "Upper 1421.580186800796\n",
      "Lower 1419.541201737235\n",
      "Guess 1420.5606942690156\n",
      "Diff 0.6116896673291876\n"
     ]
    },
    {
     "data": {
      "text/plain": [
       "1420.5606942690156"
      ]
     },
     "execution_count": 92,
     "metadata": {},
     "output_type": "execute_result"
    }
   ],
   "source": [
    "indifferent_to(cash_flow, r_b, r_l, assets, 1)\n"
   ]
  },
  {
   "cell_type": "code",
   "execution_count": null,
   "metadata": {},
   "outputs": [],
   "source": []
  }
 ],
 "metadata": {
  "kernelspec": {
   "display_name": "Python 3",
   "language": "python",
   "name": "python3"
  },
  "language_info": {
   "codemirror_mode": {
    "name": "ipython",
    "version": 3
   },
   "file_extension": ".py",
   "mimetype": "text/x-python",
   "name": "python",
   "nbconvert_exporter": "python",
   "pygments_lexer": "ipython3",
   "version": "3.7.4"
  }
 },
 "nbformat": 4,
 "nbformat_minor": 2
}
