{
 "cells": [
  {
   "cell_type": "markdown",
   "metadata": {},
   "source": [
    "# Gas power plant. Two uncertainties in Guthrie's example \n",
    "- This notebook was created as an attempt to handle problem of two uncertainties in modelling the value of gas power plant. \n",
    "- Guthrie's example copes only with the uncertainty of the electricity price. The price of gas is not modelled. \n",
    "- In this example I will try to model also the unceratinty about gas price. "
   ]
  },
  {
   "cell_type": "markdown",
   "metadata": {},
   "source": [
    "## Model and basic variables. \n",
    "- There will be 5 discrete dates in which the cash flow is obtained, and decisions about suspension can be made. \n",
    "- At each time epoch a decision is made to operate the power plant or not. According to the decision a cash flow is obtained as a difference between the input price of gas and the output price of power. Units are expected to be normalized, meaning that cash flow is defined as (price of electricity)-(price of gas). \n",
    "- Discounted cash flow by 1 unit of time is casf flow divided by the discount rate. In our case 1.05. \n",
    "- Starting price of electricity is given as \\$40, $35 for gas. Up and down movements are set as U_g = 1.1, D_g = 1/1.1, U_e = 1.2 and D_e = 1/1.2. Probabilities of up and down movements of both electricity price and gas price are defined as p_ue = 0.4, p_de = 0.6, p_ug = 0.4 and p_dg = 0.6. \n",
    "- "
   ]
  },
  {
   "cell_type": "code",
   "execution_count": 1,
   "metadata": {},
   "outputs": [],
   "source": [
    "import numpy as np"
   ]
  },
  {
   "cell_type": "code",
   "execution_count": 11,
   "metadata": {},
   "outputs": [],
   "source": [
    "R = 1.05\n",
    "\n",
    "E_0 = 40\n",
    "G_0 = 35\n",
    "\n",
    "U_g = 1.1\n",
    "U_e = 1.2\n",
    "D_g = 1/U_g\n",
    "D_e = 1/U_e\n",
    "\n",
    "p_ue = 0.4\n",
    "p_de = 1-p_ue\n",
    "p_ug = 0.4\n",
    "p_dg = 1-p_ug\n",
    "\n",
    "n_max = 6"
   ]
  },
  {
   "cell_type": "code",
   "execution_count": 99,
   "metadata": {},
   "outputs": [],
   "source": [
    "Y = np.zeros((n_max,n_max,n_max))"
   ]
  },
  {
   "cell_type": "code",
   "execution_count": 100,
   "metadata": {},
   "outputs": [],
   "source": [
    "for i in range(0,n_max):\n",
    "    for j in range(0,n_max):\n",
    "        for n in range(0,n_max):\n",
    "            Y[i][j][n] = E_0*pow(U_e,2*i-n)-G_0*pow(U_g,2*j-n)\n",
    "          \n",
    "        "
   ]
  },
  {
   "cell_type": "code",
   "execution_count": 101,
   "metadata": {},
   "outputs": [],
   "source": [
    "V = np.zeros((n_max, n_max, n_max))"
   ]
  },
  {
   "cell_type": "markdown",
   "metadata": {},
   "source": [
    "- Now lets define joint probabilities of the evolution. "
   ]
  },
  {
   "cell_type": "code",
   "execution_count": 102,
   "metadata": {},
   "outputs": [],
   "source": [
    "p_uu = p_ue*p_ug\n",
    "p_ud = p_ue*p_dg\n",
    "p_du = p_de*p_ug\n",
    "p_dd = p_de*p_dg"
   ]
  },
  {
   "cell_type": "code",
   "execution_count": 103,
   "metadata": {},
   "outputs": [],
   "source": [
    "for n_left in range(1,n_max):\n",
    "    for i in range(0,n_max-n_left): \n",
    "        for j in range(0,n_max-n_left):\n",
    "            n = n_max-n_left-1\n",
    "            V[i][j][n] = Y[i][j][n]+(p_uu*V[i+1][j+1][n+1]+p_ud*V[i+1][j][n+1]+p_du*V[i][j+1][n+1]+p_dd*V[i][j][n+1])/R"
   ]
  },
  {
   "cell_type": "code",
   "execution_count": 104,
   "metadata": {},
   "outputs": [
    {
     "data": {
      "text/plain": [
       "20.285367920192662"
      ]
     },
     "execution_count": 104,
     "metadata": {},
     "output_type": "execute_result"
    }
   ],
   "source": [
    "V[0,0,0]"
   ]
  },
  {
   "cell_type": "code",
   "execution_count": 105,
   "metadata": {},
   "outputs": [
    {
     "data": {
      "text/plain": [
       "57.628375172115"
      ]
     },
     "execution_count": 105,
     "metadata": {},
     "output_type": "execute_result"
    }
   ],
   "source": [
    "V[1][0][1]"
   ]
  },
  {
   "cell_type": "markdown",
   "metadata": {},
   "source": [
    "## Now the suspension of production is allowed. "
   ]
  },
  {
   "cell_type": "code",
   "execution_count": 106,
   "metadata": {},
   "outputs": [],
   "source": [
    "Y_susp = np.zeros((n_max,n_max,n_max))"
   ]
  },
  {
   "cell_type": "code",
   "execution_count": 107,
   "metadata": {},
   "outputs": [],
   "source": [
    "for i in range(0,n_max):\n",
    "    for j in range(0,n_max):\n",
    "        for n in range(0,n_max):\n",
    "            Y_susp[i][j][n] = max(E_0*pow(U_e,2*i-n)-G_0*pow(U_g,2*j-n),0)\n",
    "            \n",
    "          "
   ]
  },
  {
   "cell_type": "code",
   "execution_count": 108,
   "metadata": {},
   "outputs": [],
   "source": [
    "V_susp = np.zeros((n_max, n_max, n_max))"
   ]
  },
  {
   "cell_type": "code",
   "execution_count": 110,
   "metadata": {},
   "outputs": [],
   "source": [
    "for n_left in range(1,n_max):\n",
    "    for i in range(0,n_max-n_left): \n",
    "        for j in range(0,n_max-n_left):\n",
    "            n = n_max-n_left-1\n",
    "            V_susp[i][j][n] = Y_susp[i][j][n]+(p_uu*V_susp[i+1][j+1][n+1]+p_ud*V_susp[i+1][j][n+1]+p_du*V_susp[i][j+1][n+1]+p_dd*V_susp[i][j][n+1])/R"
   ]
  },
  {
   "cell_type": "code",
   "execution_count": 111,
   "metadata": {},
   "outputs": [
    {
     "data": {
      "text/plain": [
       "29.737343253146737"
      ]
     },
     "execution_count": 111,
     "metadata": {},
     "output_type": "execute_result"
    }
   ],
   "source": [
    "V_susp[0][0][0]"
   ]
  },
  {
   "cell_type": "code",
   "execution_count": 112,
   "metadata": {},
   "outputs": [
    {
     "data": {
      "text/plain": [
       "0.0"
      ]
     },
     "execution_count": 112,
     "metadata": {},
     "output_type": "execute_result"
    }
   ],
   "source": [
    "V_susp[0][0][4]"
   ]
  },
  {
   "cell_type": "code",
   "execution_count": 65,
   "metadata": {},
   "outputs": [
    {
     "data": {
      "text/plain": [
       "82.65642911458689"
      ]
     },
     "execution_count": 65,
     "metadata": {},
     "output_type": "execute_result"
    }
   ],
   "source": [
    "np.amax(V_susp)"
   ]
  },
  {
   "cell_type": "code",
   "execution_count": 66,
   "metadata": {},
   "outputs": [
    {
     "data": {
      "text/plain": [
       "0.0"
      ]
     },
     "execution_count": 66,
     "metadata": {},
     "output_type": "execute_result"
    }
   ],
   "source": [
    "np.amin(V_susp)"
   ]
  },
  {
   "cell_type": "markdown",
   "metadata": {},
   "source": [
    "## 3D visualisation failed. \n",
    "- Could be done in R, but I cannot find an easy way to transport the data from V variable to R. "
   ]
  },
  {
   "cell_type": "code",
   "execution_count": 68,
   "metadata": {},
   "outputs": [],
   "source": [
    "i = range(0,n_max)\n",
    "j = range(0,n_max)\n",
    "n = range(0,n_max)"
   ]
  },
  {
   "cell_type": "code",
   "execution_count": 86,
   "metadata": {},
   "outputs": [
    {
     "name": "stderr",
     "output_type": "stream",
     "text": [
      "/Library/Frameworks/Python.framework/Versions/3.7/lib/python3.7/site-packages/matplotlib/collections.py:857: RuntimeWarning:\n",
      "\n",
      "invalid value encountered in sqrt\n",
      "\n"
     ]
    },
    {
     "data": {
      "image/png": "[encoded data removed]",
      "text/plain": [
       "<Figure size 432x288 with 1 Axes>"
      ]
     },
     "metadata": {
      "needs_background": "light"
     },
     "output_type": "display_data"
    }
   ],
   "source": [
    "from mpl_toolkits.mplot3d import Axes3D\n",
    "fig = plt.figure()\n",
    "ax = fig.add_subplot(111, projection='3d')\n",
    "counter = range(n_max)\n",
    "i,j,n = np.meshgrid(counter, counter, counter)\n",
    "ax.scatter(i,j,n, s=V[i][j][n])\n",
    "\n",
    "plt.show()"
   ]
  },
  {
   "cell_type": "code",
   "execution_count": 94,
   "metadata": {},
   "outputs": [],
   "source": [
    " np.save(\"V.npy\", V)\n"
   ]
  }
 ],
 "metadata": {
  "kernelspec": {
   "display_name": "Python 3",
   "language": "python",
   "name": "python3"
  },
  "language_info": {
   "codemirror_mode": {
    "name": "ipython",
    "version": 3
   },
   "file_extension": ".py",
   "mimetype": "text/x-python",
   "name": "python",
   "nbconvert_exporter": "python",
   "pygments_lexer": "ipython3",
   "version": "3.8.5"
  }
 },
 "nbformat": 4,
 "nbformat_minor": 2
}
