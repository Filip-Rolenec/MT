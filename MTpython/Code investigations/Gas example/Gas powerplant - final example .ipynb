{
 "cells": [
  {
   "cell_type": "markdown",
   "metadata": {},
   "source": [
    "# Gas powerplant \n",
    "- In this notebook I will present the complete solution for the gas power plant valuation problem. \n",
    "- In the end it might be too large and I will need to make helper files for the individual functions. For now I dont know. "
   ]
  },
  {
   "cell_type": "markdown",
   "metadata": {},
   "source": []
  },
  {
   "cell_type": "code",
   "execution_count": 1,
   "metadata": {},
   "outputs": [],
   "source": [
    "import sys\n",
    "import os\n",
    "\n",
    "\n",
    "sys.path.append(\"/Users/filiprolenec/Desktop/MT/MTpython/src\")"
   ]
  },
  {
   "cell_type": "code",
   "execution_count": 2,
   "metadata": {
    "scrolled": true
   },
   "outputs": [],
   "source": [
    "from gas_example.enum_types import RunningState, PowerplantState"
   ]
  },
  {
   "cell_type": "code",
   "execution_count": 3,
   "metadata": {},
   "outputs": [],
   "source": [
    "from gas_example.simulation import run_simulation"
   ]
  },
  {
   "cell_type": "code",
   "execution_count": 14,
   "metadata": {},
   "outputs": [],
   "source": [
    "from  gas_example.state import State\n",
    "import gas_example.strategy as s\n",
    "import matplotlib.pyplot as plt\n",
    "import time\n",
    "from progressbar import progressbar\n"
   ]
  },
  {
   "cell_type": "markdown",
   "metadata": {},
   "source": [
    "# Initial settings "
   ]
  },
  {
   "cell_type": "code",
   "execution_count": 15,
   "metadata": {},
   "outputs": [],
   "source": [
    "initial_state = State(24,9,39,1,PowerplantState.NOT_BUILT,RunningState.NOT_RUNNING,0)\n",
    "epoch = 0 "
   ]
  },
  {
   "cell_type": "code",
   "execution_count": 16,
   "metadata": {},
   "outputs": [],
   "source": [
    "strategy_0 = s.Strategy(s.heuristic_strategy_0)\n",
    "strategy_1 = s.Strategy(s.heuristic_strategy_1)\n",
    "strategies = [strategy_0, strategy_1]"
   ]
  },
  {
   "cell_type": "code",
   "execution_count": null,
   "metadata": {},
   "outputs": [],
   "source": []
  },
  {
   "cell_type": "code",
   "execution_count": 17,
   "metadata": {},
   "outputs": [
    {
     "name": "stderr",
     "output_type": "stream",
     "text": [
      "100% (1500 of 1500) |####################| Elapsed Time: 0:00:33 Time:  0:00:33\n",
      "100% (1500 of 1500) |####################| Elapsed Time: 0:00:33 Time:  0:00:33\n"
     ]
    }
   ],
   "source": [
    "import time\n",
    "import sys\n",
    "\n",
    "results_final = {}\n",
    "for i in range(2):\n",
    "    results = []\n",
    "    for j in progressbar(range(1500)):\n",
    "        results.append(run_simulation(strategies[i], initial_state))\n",
    "    results_final[i]= results\n",
    "    \n"
   ]
  },
  {
   "cell_type": "code",
   "execution_count": 18,
   "metadata": {},
   "outputs": [
    {
     "data": {
      "text/plain": [
       "(array([862., 362., 155.,  60.,  30.,  13.,  10.,   3.,   3.,   2.]),\n",
       " array([-8.34059644e+08,  3.47752972e+08,  1.52956559e+09,  2.71137820e+09,\n",
       "         3.89319082e+09,  5.07500343e+09,  6.25681605e+09,  7.43862866e+09,\n",
       "         8.62044128e+09,  9.80225389e+09,  1.09840665e+10]),\n",
       " <BarContainer object of 10 artists>)"
      ]
     },
     "execution_count": 18,
     "metadata": {},
     "output_type": "execute_result"
    },
    {
     "data": {
      "image/png": "[encoded data removed]",
      "text/plain": [
       "<Figure size 432x288 with 1 Axes>"
      ]
     },
     "metadata": {
      "needs_background": "light"
     },
     "output_type": "display_data"
    }
   ],
   "source": [
    "plt.hist(results_final[0])\n",
    "plt.hist(results_final[1])"
   ]
  },
  {
   "cell_type": "code",
   "execution_count": null,
   "metadata": {},
   "outputs": [],
   "source": []
  },
  {
   "cell_type": "code",
   "execution_count": null,
   "metadata": {},
   "outputs": [],
   "source": []
  }
 ],
 "metadata": {
  "kernelspec": {
   "display_name": "Python 3",
   "language": "python",
   "name": "python3"
  },
  "language_info": {
   "codemirror_mode": {
    "name": "ipython",
    "version": 3
   },
   "file_extension": ".py",
   "mimetype": "text/x-python",
   "name": "python",
   "nbconvert_exporter": "python",
   "pygments_lexer": "ipython3",
   "version": "3.8.5"
  }
 },
 "nbformat": 4,
 "nbformat_minor": 4
}
