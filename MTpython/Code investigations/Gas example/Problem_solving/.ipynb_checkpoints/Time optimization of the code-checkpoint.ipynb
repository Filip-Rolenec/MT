{
 "cells": [
  {
   "cell_type": "markdown",
   "metadata": {},
   "source": [
    "# Trying to optimize my code \n",
    "- The integral size sample computing the expected value is super slow, i need to make it faster "
   ]
  },
  {
   "cell_type": "code",
   "execution_count": 1,
   "metadata": {},
   "outputs": [],
   "source": [
    "import sys\n",
    "import os\n",
    "\n",
    "sys.path.append(\"/Users/filiprolenec/Desktop/MT/MTpython/src\")"
   ]
  },
  {
   "cell_type": "code",
   "execution_count": 2,
   "metadata": {
    "scrolled": true
   },
   "outputs": [],
   "source": [
    "import operator\n",
    "from typing import List\n",
    "\n",
    "import numpy as np\n",
    "\n",
    "from gas_example.enum_types import Action, PowerplantState\n",
    "from gas_example.optimization.basis_function import uf_2, uf_2_inv\n",
    "from gas_example.setup import BORROW_RATE_EPOCH, RISK_FREE_RATE_EPOCH\n",
    "from gas_example.simulation.state import get_valid_actions, action_is_invalid, get_installed_mw, get_next_plant_state\n",
    "\n",
    "from gas_example.setup import get_epoch_rate, GAS_VOL, CO2_VOL, POWER_VOL, \\\n",
    "    POWERPLANT_COST, MAINTENANCE_COST_PER_MW, HOURS_IN_EPOCH, BORROW_RATE_YEAR, RISK_FREE_RATE_YEAR, BORROW_RATE_EPOCH, \\\n",
    "    RISK_FREE_RATE_EPOCH, EPOCHS_IN_YEAR\n",
    "\n",
    "import seaborn as sns\n",
    "from os import listdir\n",
    "from os.path import isfile, join\n",
    "import gas_example.simulation.strategy as strategy\n",
    "sns.set()\n",
    "\n",
    "from progressbar import progressbar"
   ]
  },
  {
   "cell_type": "code",
   "execution_count": 7,
   "metadata": {},
   "outputs": [],
   "source": [
    "class State:\n",
    "    def __init__(self, gas_price: float, co2_price: float, power_price: float,\n",
    "                 plant_state: PowerplantState, balance: float):\n",
    "        self.gas_price = gas_price\n",
    "        self.co2_price = co2_price\n",
    "        self.power_price = power_price\n",
    "        self.plant_state = plant_state\n",
    "        self.balance = balance\n",
    "        \n",
    "        self.price_coefs_dict = get_price_coefs_dict(INTEGRAL_SAMPLE_SIZE)\n",
    "\n",
    "    # Used to get faster expected utility, vector form giving us faster results\n",
    "    def get_spark_prices_and_fcfs(self, action):\n",
    "        gas_prices = self.gas_price*self.price_coefs_dict[\"Gas\"]\n",
    "        co2_prices = self.co2_price*self.price_coefs_dict[\"CO2\"]\n",
    "        power_prices = self.power_price*self.price_coefs_dict[\"Power\"]\n",
    "    \n",
    "        \n",
    "        plant_state = [get_next_plant_state(self, action)]*INTEGRAL_SAMPLE_SIZE\n",
    "\n",
    "        spark_prices = power_prices-co2_prices-gas_prices\n",
    "        \n",
    "        fcfs = compute_fcfs(spark_prices,\n",
    "                          self.plant_state,\n",
    "                          action)\n",
    "\n",
    "        return spark_prices, fcfs\n",
    "    \n",
    "    # this is for the actual simulation.\n",
    "    def get_new_state_and_fcf(self, action):\n",
    "        gas_price = get_next_price(self.gas_price, GAS_VOL)\n",
    "        co2_price = get_next_price(self.co2_price, CO2_VOL)\n",
    "        power_price = get_next_price(self.power_price, POWER_VOL)\n",
    "        plant_state = get_next_plant_state(self, action)\n",
    "\n",
    "        fcf = compute_fcf(self,\n",
    "                          self.plant_state,\n",
    "                          action)\n",
    "\n",
    "        balance = round(update_balance(self.balance, fcf))\n",
    "\n",
    "        return State(gas_price, co2_price, power_price, plant_state, balance), fcf\n",
    "    \n",
    "    def to_dict(self):\n",
    "        return self.__dict__\n",
    "    \n",
    "    def get_spark_price(self):\n",
    "        return self.power_price - self.co2_price - self.gas_price - MAINTENANCE_COST_PER_MW\n"
   ]
  },
  {
   "cell_type": "code",
   "execution_count": 8,
   "metadata": {},
   "outputs": [],
   "source": [
    "def get_best_action(state: State, future_vf, print_details=False):\n",
    "    valid_actions = get_valid_actions(state)\n",
    "\n",
    "    exp_utility_per_action = {}\n",
    "    for action in valid_actions:\n",
    "        # We would like to compute expected value, we approximate by average of samples.\n",
    "        utility_realizations = get_utility_realizations(state, action, future_vf)\n",
    "\n",
    "        exp_utility_per_action[action] = np.mean(utility_realizations)\n",
    "        \n",
    "    if print_details:\n",
    "        print(f\"Spark: {state.get_spark_price()}\")\n",
    "        print(exp_utility_per_action)\n",
    "        print(\"\\n\")\n",
    "\n",
    "    best_action = max(exp_utility_per_action.items(), key=operator.itemgetter(1))[0]\n",
    "\n",
    "    return best_action, exp_utility_per_action[best_action]"
   ]
  },
  {
   "cell_type": "code",
   "execution_count": null,
   "metadata": {},
   "outputs": [],
   "source": []
  },
  {
   "cell_type": "code",
   "execution_count": 9,
   "metadata": {
    "scrolled": false
   },
   "outputs": [
    {
     "data": {
      "text/plain": [
       "['vfs_12_21_2020.pkl',\n",
       " 'vfs_12_20_2020.pkl',\n",
       " 'vfs_2020-12-24_H10.pkl',\n",
       " 'vfs_2020-12-28_H18.pkl',\n",
       " 'vfs_2020-12-25_H09.pkl',\n",
       " 'vfs_12_22_2020.pkl']"
      ]
     },
     "execution_count": 9,
     "metadata": {},
     "output_type": "execute_result"
    }
   ],
   "source": [
    "[f for f in listdir(\"../saved_vfs\") if isfile(join(\"../saved_vfs\", f))]\n"
   ]
  },
  {
   "cell_type": "code",
   "execution_count": 10,
   "metadata": {},
   "outputs": [],
   "source": [
    "opt_strategy = strategy.OptimalStrategy(\"../saved_vfs/vfs_2020-12-28_H18.pkl\")"
   ]
  },
  {
   "cell_type": "code",
   "execution_count": 11,
   "metadata": {},
   "outputs": [],
   "source": [
    "CO2_VOL = 0.10\n",
    "GAS_VOL = 0.12\n",
    "POWER_VOL = 0.15\n",
    "EPOCHS_IN_YEAR = 12"
   ]
  },
  {
   "cell_type": "code",
   "execution_count": 12,
   "metadata": {},
   "outputs": [],
   "source": [
    "def get_price_coefs_dict(number_of_samples):\n",
    "    asset_names = [\"CO2\", \"Gas\", \"Power\"]\n",
    "    sigmas = [CO2_VOL, GAS_VOL, POWER_VOL]\n",
    "    price_coefs_dict = {}\n",
    "\n",
    "    for i, name in enumerate(asset_names):\n",
    "        dt = 1/EPOCHS_IN_YEAR\n",
    "        price_coefs_dict[name] = np.exp((0 - sigmas[i] ** 2 / 2) * dt + sigmas[i] * np.random.normal(0, np.sqrt(dt), number_of_samples))\n",
    "\n",
    "    return price_coefs_dict\n"
   ]
  },
  {
   "cell_type": "code",
   "execution_count": 14,
   "metadata": {},
   "outputs": [],
   "source": [
    "def compute_fcfs(spark_prices, \n",
    "                plant_state: PowerplantState,\n",
    "                action: Action):\n",
    "    \n",
    "    single_profit = 0\n",
    "\n",
    "    # Building new capacity costs money\n",
    "    if action == Action.IDLE_AND_BUILD or action == Action.RUN_AND_BUILD:\n",
    "        single_profit = - POWERPLANT_COST\n",
    "\n",
    "    installed_mw = get_installed_mw(plant_state)\n",
    "\n",
    "\n",
    "    single_profit -= installed_mw * MAINTENANCE_COST_PER_MW * HOURS_IN_EPOCH\n",
    "\n",
    "    # Making profit if action is to run:\n",
    "    profits = [single_profit]*INTEGRAL_SAMPLE_SIZE\n",
    "    \n",
    "    if action == Action.RUN_AND_BUILD or action == Action.RUN:\n",
    "        profits += spark_prices * installed_mw * HOURS_IN_EPOCH\n",
    "\n",
    "    return profits"
   ]
  },
  {
   "cell_type": "code",
   "execution_count": null,
   "metadata": {},
   "outputs": [],
   "source": []
  },
  {
   "cell_type": "code",
   "execution_count": null,
   "metadata": {},
   "outputs": [],
   "source": []
  },
  {
   "cell_type": "code",
   "execution_count": 15,
   "metadata": {},
   "outputs": [],
   "source": [
    "def get_utility_realizations(state: State, action: Action, future_vf):\n",
    "    spark_prices, fcfs = state.get_spark_prices_and_fcfs(action)\n",
    "    new_powerplant_state = get_next_plant_state(state, action)\n",
    "    \n",
    "    future_vf_utilities = future_vf.compute_value(new_powerplant_state, spark_prices)\n",
    "    \n",
    "    future_vf_money_equivalents = INVERSE_UTILITY_FUNCTION_V(future_vf_utilities)\n",
    "\n",
    "    updated_balances = [fcf+state.balance for fcf in fcfs]\n",
    "    \n",
    "    balance_future_vf_pairs = [[a, b] for a,b in zip(updated_balances, future_vf_money_equivalents)]\n",
    "\n",
    "    pce_realizations = [pce - state.balance for pce in pce_v(balance_future_vf_pairs)]\n",
    "\n",
    "    utility_realizations = np.round(UTILITY_FUNCTION_V(pce_realizations), 2)\n",
    "    \n",
    "    return utility_realizations"
   ]
  },
  {
   "cell_type": "code",
   "execution_count": 16,
   "metadata": {},
   "outputs": [],
   "source": [
    "UTILITY_FUNCTION_V = np.vectorize(uf_2)\n",
    "INVERSE_UTILITY_FUNCTION_V = np.vectorize(uf_2_inv)\n"
   ]
  },
  {
   "cell_type": "code",
   "execution_count": 17,
   "metadata": {},
   "outputs": [],
   "source": [
    "def pce(fcfs):\n",
    "    balance = 0\n",
    "\n",
    "    r_b = BORROW_RATE_EPOCH\n",
    "    r_r = RISK_FREE_RATE_EPOCH\n",
    "\n",
    "    for fcf in fcfs:\n",
    "        balance += fcf\n",
    "        if balance < 0:\n",
    "            balance = balance * r_b\n",
    "        else:\n",
    "            balance = balance * r_r\n",
    "\n",
    "    if balance < 0:\n",
    "        return balance / r_b ** (len(fcfs))\n",
    "    else:\n",
    "        return balance / r_r ** (len(fcfs))"
   ]
  },
  {
   "cell_type": "code",
   "execution_count": 18,
   "metadata": {},
   "outputs": [],
   "source": [
    "def pce_v(fcfs_v): \n",
    "    pces = []\n",
    "    for fcfs in fcfs_v: \n",
    "        pces.append(pce(fcfs))\n",
    "    return pces"
   ]
  },
  {
   "cell_type": "code",
   "execution_count": 20,
   "metadata": {},
   "outputs": [],
   "source": [
    "vfs = opt_strategy.vfs"
   ]
  },
  {
   "cell_type": "code",
   "execution_count": 27,
   "metadata": {},
   "outputs": [],
   "source": [
    "INTEGRAL_SAMPLE_SIZE = 100"
   ]
  },
  {
   "cell_type": "code",
   "execution_count": 28,
   "metadata": {},
   "outputs": [],
   "source": [
    "init_state=State(10, 25, 400, PowerplantState.STAGE_1, 0)\n"
   ]
  },
  {
   "cell_type": "code",
   "execution_count": 30,
   "metadata": {
    "scrolled": true
   },
   "outputs": [
    {
     "data": {
      "text/plain": [
       "array([27157.62, 25141.32, 25047.55, 25815.17, 26551.8 , 23696.85,\n",
       "       24837.86, 25496.76, 25355.55, 23806.88, 26698.68, 27302.94,\n",
       "       25448.41, 25958.22, 25597.58, 25394.57, 23682.26, 25164.22,\n",
       "       25499.51, 25407.7 , 26359.03, 24529.34, 27447.33, 27428.92,\n",
       "       27716.59, 26611.82, 25647.22, 26364.36, 25561.76, 27083.17,\n",
       "       26366.97, 26815.97, 27370.2 , 25777.9 , 24952.44, 26355.22,\n",
       "       27145.48, 24966.01, 25834.7 , 25784.41, 27628.14, 27653.75,\n",
       "       24305.15, 24334.52, 26479.9 , 25528.55, 24687.38, 26919.78,\n",
       "       26079.81, 25499.61, 25275.63, 27080.74, 26323.81, 27367.05,\n",
       "       24223.48, 24757.42, 25922.23, 27904.09, 27407.59, 25528.07,\n",
       "       26669.58, 23785.68, 23103.17, 24984.67, 27045.44, 25893.35,\n",
       "       25154.99, 25163.95, 27007.04, 23424.97, 25328.34, 26135.46,\n",
       "       26216.81, 24975.13, 25677.45, 25421.03, 27178.95, 30460.01,\n",
       "       24641.73, 25357.16, 26981.88, 25814.47, 25974.84, 25814.98,\n",
       "       25789.77, 23771.66, 27447.65, 24414.54, 26361.92, 27165.07,\n",
       "       25665.67, 26856.62, 24809.36, 23984.78, 25195.16, 25343.3 ,\n",
       "       26267.32, 23883.48, 24194.89, 26319.77])"
      ]
     },
     "execution_count": 30,
     "metadata": {},
     "output_type": "execute_result"
    }
   ],
   "source": [
    "get_utility_realizations(init_state,Action.RUN, vfs[20])"
   ]
  },
  {
   "cell_type": "code",
   "execution_count": 31,
   "metadata": {},
   "outputs": [],
   "source": [
    "vfs = opt_strategy.vfs"
   ]
  },
  {
   "cell_type": "code",
   "execution_count": 43,
   "metadata": {},
   "outputs": [],
   "source": [
    "import pendulum\n",
    "import pandas as pd"
   ]
  },
  {
   "cell_type": "code",
   "execution_count": 44,
   "metadata": {},
   "outputs": [
    {
     "data": {
      "text/plain": [
       "DateTime(2020, 12, 29, 12, 34, 13, 423167, tzinfo=Timezone('Europe/Prague'))"
      ]
     },
     "execution_count": 44,
     "metadata": {},
     "output_type": "execute_result"
    }
   ],
   "source": [
    "pendulum.now()"
   ]
  },
  {
   "cell_type": "code",
   "execution_count": 45,
   "metadata": {
    "scrolled": true
   },
   "outputs": [
    {
     "name": "stdout",
     "output_type": "stream",
     "text": [
      "0\n",
      "Spark: 359\n",
      "{<Action.DO_NOTHING: 0>: -634.43, <Action.RUN: 1>: 26258.8, <Action.RUN_AND_BUILD: 2>: 21644.49, <Action.IDLE_AND_BUILD: 3>: -6986.45}\n",
      "\n",
      "\n",
      "0 days 00:00:00.001377\n",
      "1\n",
      "Spark: 359\n",
      "{<Action.DO_NOTHING: 0>: -634.4300000000001, <Action.RUN: 1>: 25506.932, <Action.RUN_AND_BUILD: 2>: 20881.988999999998, <Action.IDLE_AND_BUILD: 3>: -6986.45}\n",
      "\n",
      "\n",
      "0 days 00:00:00.001557\n",
      "2\n",
      "Spark: 359\n",
      "{<Action.DO_NOTHING: 0>: -634.4300000000001, <Action.RUN: 1>: 25748.883200000004, <Action.RUN_AND_BUILD: 2>: 21127.1427, <Action.IDLE_AND_BUILD: 3>: -6986.449999999996}\n",
      "\n",
      "\n",
      "0 days 00:00:00.004934\n",
      "3\n",
      "Spark: 359\n",
      "{<Action.DO_NOTHING: 0>: -634.43, <Action.RUN: 1>: 25740.445389999997, <Action.RUN_AND_BUILD: 2>: 21118.53327, <Action.IDLE_AND_BUILD: 3>: -6986.449999999998}\n",
      "\n",
      "\n",
      "0 days 00:00:00.022761\n",
      "4\n",
      "Spark: 359\n",
      "{<Action.DO_NOTHING: 0>: -634.43, <Action.RUN: 1>: 25755.977190999998, <Action.RUN_AND_BUILD: 2>: 21134.298159999995, <Action.IDLE_AND_BUILD: 3>: -6986.449999999999}\n",
      "\n",
      "\n",
      "0 days 00:00:00.191589\n",
      "5\n",
      "Spark: 359\n",
      "{<Action.DO_NOTHING: 0>: -634.4300000000002, <Action.RUN: 1>: 25741.345049099997, <Action.RUN_AND_BUILD: 2>: 21119.460348, <Action.IDLE_AND_BUILD: 3>: -6986.449999999999}\n",
      "\n",
      "\n",
      "0 days 00:00:02.857302\n",
      "6\n",
      "Spark: 359\n",
      "{<Action.DO_NOTHING: 0>: -634.429999999999, <Action.RUN: 1>: 25745.295126760004, <Action.RUN_AND_BUILD: 2>: 21123.469437869997, <Action.IDLE_AND_BUILD: 3>: -6986.449999999987}\n",
      "\n",
      "\n",
      "0 days 00:00:19.594261\n",
      "7\n"
     ]
    },
    {
     "ename": "KeyboardInterrupt",
     "evalue": "",
     "output_type": "error",
     "traceback": [
      "\u001b[0;31m---------------------------------------------------------------------------\u001b[0m",
      "\u001b[0;31mKeyboardInterrupt\u001b[0m                         Traceback (most recent call last)",
      "\u001b[0;32m<ipython-input-45-a73a0e11524b>\u001b[0m in \u001b[0;36m<module>\u001b[0;34m\u001b[0m\n\u001b[1;32m      5\u001b[0m     \u001b[0minit_state\u001b[0m\u001b[0;34m=\u001b[0m\u001b[0mState\u001b[0m\u001b[0;34m(\u001b[0m\u001b[0;36m10\u001b[0m\u001b[0;34m,\u001b[0m \u001b[0;36m25\u001b[0m\u001b[0;34m,\u001b[0m \u001b[0;36m400\u001b[0m\u001b[0;34m,\u001b[0m \u001b[0mPowerplantState\u001b[0m\u001b[0;34m.\u001b[0m\u001b[0mSTAGE_1\u001b[0m\u001b[0;34m,\u001b[0m \u001b[0;36m0\u001b[0m\u001b[0;34m)\u001b[0m\u001b[0;34m\u001b[0m\u001b[0;34m\u001b[0m\u001b[0m\n\u001b[1;32m      6\u001b[0m \u001b[0;34m\u001b[0m\u001b[0m\n\u001b[0;32m----> 7\u001b[0;31m     \u001b[0mget_best_action\u001b[0m\u001b[0;34m(\u001b[0m\u001b[0minit_state\u001b[0m\u001b[0;34m,\u001b[0m \u001b[0mopt_strategy\u001b[0m\u001b[0;34m.\u001b[0m\u001b[0mvfs\u001b[0m\u001b[0;34m[\u001b[0m\u001b[0;36m1\u001b[0m\u001b[0;34m]\u001b[0m\u001b[0;34m,\u001b[0m \u001b[0;32mTrue\u001b[0m\u001b[0;34m)\u001b[0m\u001b[0;34m\u001b[0m\u001b[0;34m\u001b[0m\u001b[0m\n\u001b[0m\u001b[1;32m      8\u001b[0m     \u001b[0mprint\u001b[0m\u001b[0;34m(\u001b[0m\u001b[0;34m(\u001b[0m\u001b[0mpd\u001b[0m\u001b[0;34m.\u001b[0m\u001b[0mTimestamp\u001b[0m\u001b[0;34m.\u001b[0m\u001b[0mnow\u001b[0m\u001b[0;34m(\u001b[0m\u001b[0;34m)\u001b[0m\u001b[0;34m-\u001b[0m\u001b[0mbefore_time\u001b[0m\u001b[0;34m)\u001b[0m\u001b[0;34m)\u001b[0m\u001b[0;34m\u001b[0m\u001b[0;34m\u001b[0m\u001b[0m\n",
      "\u001b[0;32m<ipython-input-8-d6fa47fb1cb0>\u001b[0m in \u001b[0;36mget_best_action\u001b[0;34m(state, future_vf, print_details)\u001b[0m\n\u001b[1;32m      5\u001b[0m     \u001b[0;32mfor\u001b[0m \u001b[0maction\u001b[0m \u001b[0;32min\u001b[0m \u001b[0mvalid_actions\u001b[0m\u001b[0;34m:\u001b[0m\u001b[0;34m\u001b[0m\u001b[0;34m\u001b[0m\u001b[0m\n\u001b[1;32m      6\u001b[0m         \u001b[0;31m# We would like to compute expected value, we approximate by average of samples.\u001b[0m\u001b[0;34m\u001b[0m\u001b[0;34m\u001b[0m\u001b[0;34m\u001b[0m\u001b[0m\n\u001b[0;32m----> 7\u001b[0;31m         \u001b[0mutility_realizations\u001b[0m \u001b[0;34m=\u001b[0m \u001b[0mget_utility_realizations\u001b[0m\u001b[0;34m(\u001b[0m\u001b[0mstate\u001b[0m\u001b[0;34m,\u001b[0m \u001b[0maction\u001b[0m\u001b[0;34m,\u001b[0m \u001b[0mfuture_vf\u001b[0m\u001b[0;34m)\u001b[0m\u001b[0;34m\u001b[0m\u001b[0;34m\u001b[0m\u001b[0m\n\u001b[0m\u001b[1;32m      8\u001b[0m \u001b[0;34m\u001b[0m\u001b[0m\n\u001b[1;32m      9\u001b[0m         \u001b[0mexp_utility_per_action\u001b[0m\u001b[0;34m[\u001b[0m\u001b[0maction\u001b[0m\u001b[0;34m]\u001b[0m \u001b[0;34m=\u001b[0m \u001b[0mnp\u001b[0m\u001b[0;34m.\u001b[0m\u001b[0mmean\u001b[0m\u001b[0;34m(\u001b[0m\u001b[0mutility_realizations\u001b[0m\u001b[0;34m)\u001b[0m\u001b[0;34m\u001b[0m\u001b[0;34m\u001b[0m\u001b[0m\n",
      "\u001b[0;32m<ipython-input-15-369e43325a71>\u001b[0m in \u001b[0;36mget_utility_realizations\u001b[0;34m(state, action, future_vf)\u001b[0m\n\u001b[1;32m      5\u001b[0m     \u001b[0mfuture_vf_utilities\u001b[0m \u001b[0;34m=\u001b[0m \u001b[0mfuture_vf\u001b[0m\u001b[0;34m.\u001b[0m\u001b[0mcompute_value\u001b[0m\u001b[0;34m(\u001b[0m\u001b[0mnew_powerplant_state\u001b[0m\u001b[0;34m,\u001b[0m \u001b[0mspark_prices\u001b[0m\u001b[0;34m)\u001b[0m\u001b[0;34m\u001b[0m\u001b[0;34m\u001b[0m\u001b[0m\n\u001b[1;32m      6\u001b[0m \u001b[0;34m\u001b[0m\u001b[0m\n\u001b[0;32m----> 7\u001b[0;31m     \u001b[0mfuture_vf_money_equivalents\u001b[0m \u001b[0;34m=\u001b[0m \u001b[0mINVERSE_UTILITY_FUNCTION_V\u001b[0m\u001b[0;34m(\u001b[0m\u001b[0mfuture_vf_utilities\u001b[0m\u001b[0;34m)\u001b[0m\u001b[0;34m\u001b[0m\u001b[0;34m\u001b[0m\u001b[0m\n\u001b[0m\u001b[1;32m      8\u001b[0m \u001b[0;34m\u001b[0m\u001b[0m\n\u001b[1;32m      9\u001b[0m     \u001b[0mupdated_balances\u001b[0m \u001b[0;34m=\u001b[0m \u001b[0;34m[\u001b[0m\u001b[0mfcf\u001b[0m\u001b[0;34m+\u001b[0m\u001b[0mstate\u001b[0m\u001b[0;34m.\u001b[0m\u001b[0mbalance\u001b[0m \u001b[0;32mfor\u001b[0m \u001b[0mfcf\u001b[0m \u001b[0;32min\u001b[0m \u001b[0mfcfs\u001b[0m\u001b[0;34m]\u001b[0m\u001b[0;34m\u001b[0m\u001b[0;34m\u001b[0m\u001b[0m\n",
      "\u001b[0;32m~/.pyenv/versions/3.8.5/lib/python3.8/site-packages/numpy/lib/function_base.py\u001b[0m in \u001b[0;36m__call__\u001b[0;34m(self, *args, **kwargs)\u001b[0m\n\u001b[1;32m   2106\u001b[0m             \u001b[0mvargs\u001b[0m\u001b[0;34m.\u001b[0m\u001b[0mextend\u001b[0m\u001b[0;34m(\u001b[0m\u001b[0;34m[\u001b[0m\u001b[0mkwargs\u001b[0m\u001b[0;34m[\u001b[0m\u001b[0m_n\u001b[0m\u001b[0;34m]\u001b[0m \u001b[0;32mfor\u001b[0m \u001b[0m_n\u001b[0m \u001b[0;32min\u001b[0m \u001b[0mnames\u001b[0m\u001b[0;34m]\u001b[0m\u001b[0;34m)\u001b[0m\u001b[0;34m\u001b[0m\u001b[0;34m\u001b[0m\u001b[0m\n\u001b[1;32m   2107\u001b[0m \u001b[0;34m\u001b[0m\u001b[0m\n\u001b[0;32m-> 2108\u001b[0;31m         \u001b[0;32mreturn\u001b[0m \u001b[0mself\u001b[0m\u001b[0;34m.\u001b[0m\u001b[0m_vectorize_call\u001b[0m\u001b[0;34m(\u001b[0m\u001b[0mfunc\u001b[0m\u001b[0;34m=\u001b[0m\u001b[0mfunc\u001b[0m\u001b[0;34m,\u001b[0m \u001b[0margs\u001b[0m\u001b[0;34m=\u001b[0m\u001b[0mvargs\u001b[0m\u001b[0;34m)\u001b[0m\u001b[0;34m\u001b[0m\u001b[0;34m\u001b[0m\u001b[0m\n\u001b[0m\u001b[1;32m   2109\u001b[0m \u001b[0;34m\u001b[0m\u001b[0m\n\u001b[1;32m   2110\u001b[0m     \u001b[0;32mdef\u001b[0m \u001b[0m_get_ufunc_and_otypes\u001b[0m\u001b[0;34m(\u001b[0m\u001b[0mself\u001b[0m\u001b[0;34m,\u001b[0m \u001b[0mfunc\u001b[0m\u001b[0;34m,\u001b[0m \u001b[0margs\u001b[0m\u001b[0;34m)\u001b[0m\u001b[0;34m:\u001b[0m\u001b[0;34m\u001b[0m\u001b[0;34m\u001b[0m\u001b[0m\n",
      "\u001b[0;31mKeyboardInterrupt\u001b[0m: "
     ]
    }
   ],
   "source": [
    "for i in range(10): \n",
    "    print(i)\n",
    "    before_time = pd.Timestamp.now()\n",
    "    INTEGRAL_SAMPLE_SIZE = 10**i\n",
    "    init_state=State(10, 25, 400, PowerplantState.STAGE_1, 0)\n",
    "\n",
    "    get_best_action(init_state, opt_strategy.vfs[1], True)\n",
    "    print((pd.Timestamp.now()-before_time))"
   ]
  },
  {
   "cell_type": "code",
   "execution_count": 48,
   "metadata": {},
   "outputs": [
    {
     "data": {
      "text/plain": [
       "3.1666666666666665"
      ]
     },
     "execution_count": 48,
     "metadata": {},
     "output_type": "execute_result"
    }
   ],
   "source": [
    "0.19*200*300/60/60"
   ]
  },
  {
   "cell_type": "code",
   "execution_count": null,
   "metadata": {},
   "outputs": [],
   "source": [
    "INTEGRAL_SAMPLE_SIZE = 10000\n",
    "get_best_action(init_state, opt_strategy.vfs[1], True)"
   ]
  },
  {
   "cell_type": "code",
   "execution_count": null,
   "metadata": {},
   "outputs": [],
   "source": []
  }
 ],
 "metadata": {
  "kernelspec": {
   "display_name": "Python 3",
   "language": "python",
   "name": "python3"
  },
  "language_info": {
   "codemirror_mode": {
    "name": "ipython",
    "version": 3
   },
   "file_extension": ".py",
   "mimetype": "text/x-python",
   "name": "python",
   "nbconvert_exporter": "python",
   "pygments_lexer": "ipython3",
   "version": "3.8.5"
  }
 },
 "nbformat": 4,
 "nbformat_minor": 4
}
