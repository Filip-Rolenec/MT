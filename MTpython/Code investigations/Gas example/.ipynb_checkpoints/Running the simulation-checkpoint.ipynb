{
 "cells": [
  {
   "cell_type": "markdown",
   "metadata": {},
   "source": [
    "# Simulation\n",
    "- In this notebook wee run the actual simulation and the decision making as defined by both the optimal strategy from the Vfs parameters computation notebook as well as the heuristic strategies. "
   ]
  },
  {
   "cell_type": "markdown",
   "metadata": {},
   "source": []
  },
  {
   "cell_type": "code",
   "execution_count": 14,
   "metadata": {},
   "outputs": [],
   "source": [
    "import sys\n",
    "import os\n",
    "\n",
    "sys.path.append(\"/Users/filiprolenec/Desktop/MT/MTpython/src\")"
   ]
  },
  {
   "cell_type": "code",
   "execution_count": 15,
   "metadata": {
    "scrolled": true
   },
   "outputs": [],
   "source": [
    "from gas_example.enum_types import PowerplantState\n",
    "from gas_example.simulation.simulation import run_simulation\n",
    "from  gas_example.simulation.state import State\n",
    "import gas_example.simulation.strategy as strategy"
   ]
  },
  {
   "cell_type": "code",
   "execution_count": 16,
   "metadata": {
    "scrolled": true
   },
   "outputs": [],
   "source": [
    "import matplotlib.pyplot as plt\n",
    "from progressbar import progressbar\n",
    "import seaborn as sns\n",
    "import pandas as pd\n",
    "import numpy as np\n",
    "sns.set()"
   ]
  },
  {
   "cell_type": "markdown",
   "metadata": {},
   "source": [
    "# Baseline strategies  \n",
    "- Build one stage and run all the time\n",
    "- Build one stage and run only when it is profitable"
   ]
  },
  {
   "cell_type": "code",
   "execution_count": 17,
   "metadata": {},
   "outputs": [],
   "source": [
    "initial_state = State(24,9,39,PowerplantState.NOT_BUILT,0)"
   ]
  },
  {
   "cell_type": "code",
   "execution_count": 18,
   "metadata": {
    "scrolled": true
   },
   "outputs": [],
   "source": [
    "strategy_0 = strategy.HeuristicStrategy(strategy.heuristic_strategy_function_0)\n",
    "strategy_1 = strategy.HeuristicStrategy(strategy.heuristic_strategy_function_1)\n",
    "strategy_2 = strategy.HeuristicStrategy(strategy.heuristic_strategy_function_2)\n",
    "\n",
    "opt_strategy = strategy.OptimalStrategy(\"saved_vfs/vfs_12_20_2020.pkl\")\n",
    "\n",
    "strategies = [strategy_0, strategy_1, strategy_2, opt_strategy]\n"
   ]
  },
  {
   "cell_type": "code",
   "execution_count": null,
   "metadata": {
    "scrolled": false
   },
   "outputs": [
    {
     "name": "stderr",
     "output_type": "stream",
     "text": [
      "100% (500 of 500) |######################| Elapsed Time: 0:00:07 Time:  0:00:07\n",
      "100% (500 of 500) |######################| Elapsed Time: 0:00:07 Time:  0:00:07\n",
      "100% (500 of 500) |######################| Elapsed Time: 0:00:07 Time:  0:00:07\n",
      " 19% (95 of 500) |####                   | Elapsed Time: 0:00:38 ETA:   0:02:42"
     ]
    }
   ],
   "source": [
    "results_final = {}\n",
    "for i in range(len(strategies)):\n",
    "    results = []\n",
    "    for j in progressbar(range(500)):\n",
    "        results.append(run_simulation(strategies[i], initial_state))\n",
    "    results_final[i]= results"
   ]
  },
  {
   "cell_type": "code",
   "execution_count": null,
   "metadata": {},
   "outputs": [],
   "source": [
    "def plot_results(results): \n",
    "    \n",
    "    flatten = lambda t: [item for sublist in t.values() for item in sublist]\n",
    "    all_results = flatten(results_final)\n",
    "    max_value_displayed = np.percentile(all_results, 98)\n",
    "    min_value_displayed = np.percentile(all_results, 2)\n",
    "    \n",
    "    total_min = min([min(results_final[i]) for i in range(len(results_final))])\n",
    "    total_min = min_value_displayed\n",
    "    total_max = max_value_displayed\n",
    "\n",
    "    width = (total_max-total_min)/30\n",
    "    b = [total_min +i*width for i in range(30)]\n",
    "    \n",
    "    df = pd.DataFrame(results_final)\n",
    "    means = [np.mean(df[i]) for i in range(len(results_final))]\n",
    "    colors = sns.color_palette()[0:4]\n",
    "\n",
    "    fig, ax = plt.subplots(figsize = (12,6), dpi = 100)\n",
    "\n",
    "    plt.hist(df, bins = b, label = [f\"Strategy_{i}\" for i in df.columns])\n",
    "\n",
    "    trans = ax.get_xaxis_transform()\n",
    "\n",
    "\n",
    "    for i,mean in enumerate(means):\n",
    "        plt.axvline(x=mean,linestyle = \"dashed\", color = colors[i])\n",
    "        plt.text(mean+5, 0.5+i*0.05, round(mean),transform = trans,  color = colors[i])\n",
    "    plt.xlabel(\"M of EUR\")\n",
    "    plt.ylabel(\"Count\")\n",
    "    plt.legend()\n",
    "    plt.title(\"Baseline strategies and their expected PCEs\")\n",
    "    plt.show()"
   ]
  },
  {
   "cell_type": "code",
   "execution_count": null,
   "metadata": {
    "scrolled": true
   },
   "outputs": [],
   "source": [
    " plot_results(results_final)"
   ]
  },
  {
   "cell_type": "markdown",
   "metadata": {},
   "source": [
    "### Comparing the result value to the one given by the value function. "
   ]
  },
  {
   "cell_type": "code",
   "execution_count": 23,
   "metadata": {},
   "outputs": [],
   "source": [
    "vfs_0 = opt_strategy.vfs[0]"
   ]
  },
  {
   "cell_type": "code",
   "execution_count": 24,
   "metadata": {
    "scrolled": true
   },
   "outputs": [],
   "source": [
    "expected_utility = vfs_0.compute_value(initial_state)"
   ]
  },
  {
   "cell_type": "code",
   "execution_count": 25,
   "metadata": {},
   "outputs": [],
   "source": [
    "def uf_2_inv(y):\n",
    "    if y < 0:\n",
    "        thousands = -((-y) ** 1.2)\n",
    "    else:\n",
    "        thousands = y ** 1.25\n",
    "\n",
    "    return thousands * 1000"
   ]
  },
  {
   "cell_type": "code",
   "execution_count": 26,
   "metadata": {},
   "outputs": [
    {
     "data": {
      "text/plain": [
       "1.454620228543005"
      ]
     },
     "execution_count": 26,
     "metadata": {},
     "output_type": "execute_result"
    }
   ],
   "source": [
    "uf_2_inv(expected_utility)/1_000_000"
   ]
  },
  {
   "cell_type": "code",
   "execution_count": null,
   "metadata": {},
   "outputs": [],
   "source": []
  },
  {
   "cell_type": "code",
   "execution_count": null,
   "metadata": {},
   "outputs": [],
   "source": []
  },
  {
   "cell_type": "markdown",
   "metadata": {},
   "source": [
    "## Go in detail\n",
    "- The problem now is that when optimizing V(s_t) we take (s_t,exp(utility)) and make the linear model. But for that we use for the computation of s_t's exp(utility) the optimal action, determined by the zero vf's. \n",
    "- Like this the action of not doing anything will always be the optimal action and the model will not evaluate V(s_t) correctly. \n",
    "\n",
    "- I need to return to literature and see, how V(s_t) is optimized. \n",
    "\n",
    "- I have an idea that we could set up the initial values not 0 but super extreme, so that the optimal actions will dissapear with the realization. \n",
    "- Second idea is to randomize the actions. "
   ]
  },
  {
   "cell_type": "markdown",
   "metadata": {},
   "source": [
    "# 20.12.\n",
    "- I did run the optimal strategy and it made more money, no surprise there, but happy anyway. \n",
    "- Further analysis can be done on this. \n",
    "- This result shows that is is possible to interpret the investment problem. \n"
   ]
  },
  {
   "cell_type": "code",
   "execution_count": null,
   "metadata": {},
   "outputs": [],
   "source": []
  },
  {
   "cell_type": "markdown",
   "metadata": {},
   "source": []
  },
  {
   "cell_type": "code",
   "execution_count": null,
   "metadata": {},
   "outputs": [],
   "source": []
  }
 ],
 "metadata": {
  "kernelspec": {
   "display_name": "Python 3",
   "language": "python",
   "name": "python3"
  },
  "language_info": {
   "codemirror_mode": {
    "name": "ipython",
    "version": 3
   },
   "file_extension": ".py",
   "mimetype": "text/x-python",
   "name": "python",
   "nbconvert_exporter": "python",
   "pygments_lexer": "ipython3",
   "version": "3.8.5"
  }
 },
 "nbformat": 4,
 "nbformat_minor": 4
}
