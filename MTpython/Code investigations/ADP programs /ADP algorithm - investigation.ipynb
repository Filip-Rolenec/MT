{
 "cells": [
  {
   "cell_type": "markdown",
   "metadata": {},
   "source": [
    "# ADP algorihtm \n",
    "- The goal of this file is to first learn how does the ADP work on a simple example and then use it to solve the problem of gas power plant valuation. \n",
    "\n",
    "- First, I will setup a simple example of three states and two actions. Each of the two actions changes the probability distributions of results and \"costs\" some reward. \n",
    "    - I will compute the optimal strategy for this example with real dynamic programming and then with the approximative dynamic programming. \n",
    "    - I will make heuristic strategies as well. "
   ]
  },
  {
   "cell_type": "markdown",
   "metadata": {},
   "source": [
    "## Three states two actions"
   ]
  },
  {
   "cell_type": "code",
   "execution_count": 1,
   "metadata": {},
   "outputs": [],
   "source": [
    "import sys\n",
    "import os\n",
    "sys.path.append(\"/Users/filiprolenec/Desktop/MT/MTpython/src\")"
   ]
  },
  {
   "cell_type": "code",
   "execution_count": 2,
   "metadata": {},
   "outputs": [],
   "source": [
    "import simple_example.strategy as s\n",
    "from simple_example.simulation import run_simulation\n",
    "import matplotlib.pyplot as plt \n",
    "import numpy as np\n",
    "from simple_example.setup import ProblemSetup\n",
    "from sklearn.linear_model import LinearRegression\n",
    "from simple_example.state import get_new_state\n"
   ]
  },
  {
   "cell_type": "markdown",
   "metadata": {},
   "source": [
    "# Classical Dynamic programming "
   ]
  },
  {
   "cell_type": "code",
   "execution_count": 3,
   "metadata": {},
   "outputs": [],
   "source": [
    "from simple_example.dp_algorithm import classic_dp"
   ]
  },
  {
   "cell_type": "code",
   "execution_count": 4,
   "metadata": {},
   "outputs": [],
   "source": [
    "horizon_vf = [0,0,0]\n",
    "problem_setup = ProblemSetup()\n",
    "prob_matrix = problem_setup.prob_matrix\n",
    "reward_matrix = problem_setup.reward_matrix\n",
    "time_epochs = problem_setup.time_epochs"
   ]
  },
  {
   "cell_type": "code",
   "execution_count": 5,
   "metadata": {
    "scrolled": true
   },
   "outputs": [
    {
     "data": {
      "text/plain": [
       "({9: {1: 2, 2: 1, 3: 2},\n",
       "  8: {1: 2, 2: 1, 3: 2},\n",
       "  7: {1: 2, 2: 1, 3: 2},\n",
       "  6: {1: 2, 2: 1, 3: 2},\n",
       "  5: {1: 2, 2: 1, 3: 2},\n",
       "  4: {1: 2, 2: 1, 3: 2},\n",
       "  3: {1: 2, 2: 1, 3: 2},\n",
       "  2: {1: 2, 2: 1, 3: 2},\n",
       "  1: {1: 2, 2: 1, 3: 2},\n",
       "  0: {1: 2, 2: 1, 3: 2}},\n",
       " {9: [6.3999999999999995, 13.8, 14.399999999999999],\n",
       "  8: [19.88, 26.48, 26.16],\n",
       "  7: [31.995999999999995, 38.768, 38.804],\n",
       "  6: [44.516, 51.2352, 51.1472],\n",
       "  5: [56.90168, 63.63856, 63.593039999999995],\n",
       "  4: [69.333008, 76.063872, 76.00384],\n",
       "  3: [81.7487632, 88.48168, 88.4266032],\n",
       "  2: [94.16983456, 100.90205055999999, 100.84528191999999],\n",
       "  1: [106.58909091199999, 113.321546176, 113.26535516799999],\n",
       "  0: [119.00896694399998, 125.7413405184, 125.6849522944]})"
      ]
     },
     "execution_count": 5,
     "metadata": {},
     "output_type": "execute_result"
    }
   ],
   "source": [
    "classic_dp(horizon_vf, problem_setup)"
   ]
  },
  {
   "cell_type": "markdown",
   "metadata": {},
   "source": [
    "# Strategy result comparison"
   ]
  },
  {
   "cell_type": "code",
   "execution_count": 6,
   "metadata": {},
   "outputs": [],
   "source": [
    "strategies = [s.heuristic_strategy_0, \n",
    "              s.heuristic_strategy_1, \n",
    "              s.heuristic_strategy_2, \n",
    "              s.optimal_strategy]"
   ]
  },
  {
   "cell_type": "code",
   "execution_count": 7,
   "metadata": {},
   "outputs": [],
   "source": [
    "all_results = {}\n",
    "initial_state = 0\n",
    "\n",
    "for strategy in strategies: \n",
    "    strategy_results = {}\n",
    "    for i in range(10000): \n",
    "        strategy_results[i] = run_simulation(strategy, initial_state, problem_setup)\n",
    "            \n",
    "    all_results[strategy.__name__] = strategy_results "
   ]
  },
  {
   "cell_type": "code",
   "execution_count": 8,
   "metadata": {},
   "outputs": [
    {
     "data": {
      "text/plain": [
       "<matplotlib.legend.Legend at 0x123818970>"
      ]
     },
     "execution_count": 8,
     "metadata": {},
     "output_type": "execute_result"
    },
    {
     "data": {
      "image/png": "[encoded data removed]",
      "text/plain": [
       "<Figure size 432x288 with 1 Axes>"
      ]
     },
     "metadata": {
      "needs_background": "light"
     },
     "output_type": "display_data"
    }
   ],
   "source": [
    "for strategy in strategies: \n",
    "    plt.hist(all_results[strategy.__name__].values(), label =strategy.__name__, alpha = 0.7)\n",
    "plt.legend()"
   ]
  },
  {
   "cell_type": "code",
   "execution_count": 9,
   "metadata": {
    "scrolled": true
   },
   "outputs": [
    {
     "name": "stdout",
     "output_type": "stream",
     "text": [
      "76.5032\n",
      "35.4256\n",
      "64.5967\n",
      "118.8758\n"
     ]
    }
   ],
   "source": [
    "for strategy in strategies: \n",
    "    print(np.mean(list(all_results[strategy.__name__].values())))"
   ]
  },
  {
   "cell_type": "markdown",
   "metadata": {},
   "source": [
    "# ADP algorithm finding the best strategy \n",
    "$$V_t(s, \\theta) = \\theta_0 + \\theta_{t,1} \\cdot \\phi_1(s) + \\theta_{t,2} \\cdot \\phi_2(s) + \\theta_{t,3} \\cdot \\phi_3(s)$$"
   ]
  },
  {
   "cell_type": "markdown",
   "metadata": {},
   "source": [
    "Where $\\phi_i(s)$ functions are onli indicator functions of each state."
   ]
  },
  {
   "cell_type": "markdown",
   "metadata": {},
   "source": [
    "## ADP steps: \n",
    "1. Initialize parameters $\\theta_t$\n",
    "2. Define basis functions $\\phi_i(s)$\n",
    "3. Loop over time epochs from the last to the first: \n",
    "    1. Loop over fixed amount of sampled states: \n",
    "        1. Determine optimal decisions based on those states, in my case 1 action out of 6. \n",
    "        2. Simulate what happens after my action (s,a,s) triplet and reward (plus value function estimate in the following state) \n",
    "    2. Make a linear regression on the new findings. Get new $\\theta_i$ based on rewards + future vf and values of the basis functions. \n",
    "    3. Update the parameters, either fully, or with a learning step. \n",
    "4. Check how far are the value functions from the truth (which I know here) "
   ]
  },
  {
   "cell_type": "markdown",
   "metadata": {},
   "source": [
    "### 1. initialize params"
   ]
  },
  {
   "cell_type": "code",
   "execution_count": 10,
   "metadata": {},
   "outputs": [],
   "source": [
    "thetas = [[0 for i in range(3)] for i in time_epochs]"
   ]
  },
  {
   "cell_type": "code",
   "execution_count": 11,
   "metadata": {
    "scrolled": true
   },
   "outputs": [
    {
     "data": {
      "text/plain": [
       "[0, 0, 0]"
      ]
     },
     "execution_count": 11,
     "metadata": {},
     "output_type": "execute_result"
    }
   ],
   "source": [
    "thetas[0]"
   ]
  },
  {
   "cell_type": "code",
   "execution_count": 12,
   "metadata": {},
   "outputs": [],
   "source": [
    "theta_initial = [0,0,0,0]"
   ]
  },
  {
   "cell_type": "markdown",
   "metadata": {},
   "source": [
    "### 2. Define basis functions"
   ]
  },
  {
   "cell_type": "code",
   "execution_count": 13,
   "metadata": {},
   "outputs": [],
   "source": [
    "def bf_1(s): \n",
    "    return 1 if s == 0 else 0 \n",
    "\n",
    "def bf_2(s): \n",
    "    return 1 if s == 1 else 0 \n",
    "\n",
    "def bf_3(s): \n",
    "    return 1 if s == 2 else 0 \n",
    "basis_functions = [bf_1,bf_2,bf_3]"
   ]
  },
  {
   "cell_type": "markdown",
   "metadata": {},
   "source": [
    "### 3.a determine optimal decision based on a state and simulate what happens "
   ]
  },
  {
   "cell_type": "code",
   "execution_count": 14,
   "metadata": {},
   "outputs": [],
   "source": [
    "def vector_mult(a,b): \n",
    "    return sum([i*j for i,j in zip(a,b)])"
   ]
  },
  {
   "cell_type": "code",
   "execution_count": 15,
   "metadata": {},
   "outputs": [],
   "source": [
    "state = 2\n",
    "action = 1\n",
    "actions = range(2)\n",
    "states = range(3)\n",
    "t = 9"
   ]
  },
  {
   "cell_type": "code",
   "execution_count": 16,
   "metadata": {},
   "outputs": [
    {
     "data": {
      "text/plain": [
       "[0.3, 0.4, 0.3]"
      ]
     },
     "execution_count": 16,
     "metadata": {},
     "output_type": "execute_result"
    }
   ],
   "source": [
    "prob_matrix[2][1]\n"
   ]
  },
  {
   "cell_type": "code",
   "execution_count": 17,
   "metadata": {},
   "outputs": [
    {
     "data": {
      "text/plain": [
       "[10, 18, 14]"
      ]
     },
     "execution_count": 17,
     "metadata": {},
     "output_type": "execute_result"
    }
   ],
   "source": [
    "problem_setup.reward_matrix[2][1]"
   ]
  },
  {
   "cell_type": "code",
   "execution_count": 18,
   "metadata": {},
   "outputs": [
    {
     "data": {
      "text/plain": [
       "14.399999999999999"
      ]
     },
     "execution_count": 18,
     "metadata": {},
     "output_type": "execute_result"
    }
   ],
   "source": [
    "vector_mult(prob_matrix[2][1], reward_matrix[2][1])"
   ]
  },
  {
   "cell_type": "code",
   "execution_count": 19,
   "metadata": {},
   "outputs": [],
   "source": [
    "vf = []"
   ]
  },
  {
   "cell_type": "code",
   "execution_count": 20,
   "metadata": {},
   "outputs": [],
   "source": [
    "from simple_example.vf import Vf"
   ]
  },
  {
   "cell_type": "code",
   "execution_count": 21,
   "metadata": {},
   "outputs": [],
   "source": [
    "def create_vfs(time_epochs, theta_initial):\n",
    "    vfs = []\n",
    "    for i in time_epochs: \n",
    "        vfs.append(Vf(theta_initial))\n",
    "    return"
   ]
  },
  {
   "cell_type": "code",
   "execution_count": 22,
   "metadata": {},
   "outputs": [],
   "source": [
    "from simple_example.setup import ProblemSetup"
   ]
  },
  {
   "cell_type": "code",
   "execution_count": 23,
   "metadata": {},
   "outputs": [],
   "source": [
    "def get_exp_value(state, action, prob_matrix, reward_matrix, future_vf): \n",
    "    rewards = reward_matrix[state][action]\n",
    "    future_vf_values = future_vf.compute_all_values()\n",
    "    total_rewards = [i+j for i,j in zip(rewards, future_vf_values)]\n",
    "    return vector_mult(prob_matrix[state][action], total_rewards) "
   ]
  },
  {
   "cell_type": "code",
   "execution_count": 24,
   "metadata": {},
   "outputs": [],
   "source": [
    "def get_best_action(state, future_vf, prob_matrix, reward_matrix): \n",
    "    exp_rewards = []\n",
    "    for action in actions: \n",
    "        exp_rewards.append(get_exp_value(state, action, prob_matrix, reward_matrix, future_vf))\n",
    "    return np.argmax(exp_rewards)"
   ]
  },
  {
   "cell_type": "markdown",
   "metadata": {},
   "source": [
    "### 3.b for x random states, determine the best action, perform the evolution, get the actual reward and note it. "
   ]
  },
  {
   "cell_type": "code",
   "execution_count": null,
   "metadata": {},
   "outputs": [],
   "source": []
  },
  {
   "cell_type": "code",
   "execution_count": 25,
   "metadata": {},
   "outputs": [],
   "source": [
    "sample_size = 50"
   ]
  },
  {
   "cell_type": "code",
   "execution_count": 26,
   "metadata": {},
   "outputs": [],
   "source": [
    "def get_state_reward_pairs(sample_size, states, future_vf, prob_matrix, reward_matrix): \n",
    "    state_reward_pairs = []\n",
    "    for i in range(sample_size): \n",
    "        state = np.random.choice(states, p=[0.34, 0.33, 0.33])\n",
    "\n",
    "        action = get_best_action(state, future_vf, prob_matrix, reward_matrix) \n",
    "        new_state = get_new_state(state, action, prob_matrix)\n",
    "\n",
    "        reward = reward_matrix[state][action][new_state] + future_vf.compute_value(new_state)\n",
    "        state_reward_pairs.append([state, reward])\n",
    "    return state_reward_pairs "
   ]
  },
  {
   "cell_type": "markdown",
   "metadata": {},
   "source": [
    "### 3.c linear regression on the results \n",
    "- I have the following model: \n",
    "$$V_t(s, \\theta) = \\theta_0 + \\theta_{t,1} \\cdot \\phi_1(s) + \\theta_{t,2} \\cdot \\phi_2(s) + \\theta_{t,3} \\cdot \\phi_3(s)$$\n",
    "- and I want to predict the parameters \\theta, based on the realizaitons V_t(s) and the variable s. \n",
    "- This model is simple, and we expect that each of the parameters will be close to the expected value. \n",
    "    - In reality, it will be such a number that minimizes the sum of squares of the errors. \n",
    "    - For example if there are three outcomes with 1/3 probability and rewards 1,3,100, the number will be closer to 50 than 33. \n",
    "    - Thus even for this model, the result will in uneven settings of reeward be only an approximation. "
   ]
  },
  {
   "cell_type": "markdown",
   "metadata": {},
   "source": [
    "### 3.c Intercept makes the model crazy \n",
    "- There are numbers like 10^14 \n",
    "- Since there is no reason for the intercept, i will just make a model without it here. The model becomes: \n",
    "\n",
    "$$V_t(s, \\theta) = \\theta_{t,1} \\cdot \\phi_1(s) + \\theta_{t,2} \\cdot \\phi_2(s) + \\theta_{t,3} \\cdot \\phi_3(s)$$\n"
   ]
  },
  {
   "cell_type": "markdown",
   "metadata": {},
   "source": [
    "preparing the regression variables"
   ]
  },
  {
   "cell_type": "code",
   "execution_count": 27,
   "metadata": {},
   "outputs": [],
   "source": [
    "def prepare_regression_variables(state_reward_pairs, basis_functions): \n",
    "    x = []\n",
    "    y = []\n",
    "    for pair in state_reward_pairs: \n",
    "        x.append([basis_functions[0](pair[0]),\n",
    "                  basis_functions[1](pair[0]),\n",
    "                  basis_functions[2](pair[0])])\n",
    "        y.append(pair[1])\n",
    "        \n",
    "    return x,y"
   ]
  },
  {
   "cell_type": "markdown",
   "metadata": {},
   "source": [
    "actual values = 6.4, 13.8, 14.4"
   ]
  },
  {
   "cell_type": "markdown",
   "metadata": {},
   "source": [
    "### But the actual prediction makes sense i guess "
   ]
  },
  {
   "cell_type": "code",
   "execution_count": 28,
   "metadata": {},
   "outputs": [],
   "source": [
    "def update_vf_coef(current_vf, next_vf, problem_setup, sample_size, basis_functions):\n",
    "    state_reward_pairs_raw = get_state_reward_pairs(sample_size, \n",
    "                                                    problem_setup.states, \n",
    "                                                    next_vf,\n",
    "                                                    problem_setup.prob_matrix,\n",
    "                                                    problem_setup.reward_matrix)\n",
    "    \n",
    "    x,y = prepare_regression_variables(state_reward_pairs_raw, basis_functions)\n",
    "    model = LinearRegression(fit_intercept=False).fit(x, y)\n",
    "    current_vf.set_params(model.coef_)"
   ]
  },
  {
   "cell_type": "markdown",
   "metadata": {},
   "source": [
    "106.58909091199999, 113.321546176, 113.26535516799999"
   ]
  },
  {
   "cell_type": "markdown",
   "metadata": {},
   "source": [
    "Even with 5000 samples and 20 loops of update, there is still a 0.5% difference from the reality. This might be caused by a different optimization function as discussed above. Linear algorithm does not return the mean value, rather a value from which the sum of squares of residuals is the lowest. \n",
    "\n",
    "A reasonable approximation can be seen as low as for 50 samples and 10 loops. "
   ]
  },
  {
   "cell_type": "code",
   "execution_count": 29,
   "metadata": {},
   "outputs": [],
   "source": [
    "problem_setup = ProblemSetup()"
   ]
  },
  {
   "cell_type": "code",
   "execution_count": 30,
   "metadata": {},
   "outputs": [],
   "source": [
    "from simple_example.adp_algorithm import adp_algorithm_final"
   ]
  },
  {
   "cell_type": "code",
   "execution_count": 31,
   "metadata": {
    "scrolled": true
   },
   "outputs": [
    {
     "name": "stderr",
     "output_type": "stream",
     "text": [
      "100% (20 of 20) |########################| Elapsed Time: 0:00:01 Time:  0:00:01\n"
     ]
    }
   ],
   "source": [
    "vfs_1 = adp_algorithm_final(loops_of_update=20, sample_size=50, problem_setup = problem_setup)"
   ]
  },
  {
   "cell_type": "code",
   "execution_count": 32,
   "metadata": {},
   "outputs": [
    {
     "data": {
      "text/plain": [
       "array([104.17630451, 113.07600179, 110.85370641])"
      ]
     },
     "execution_count": 32,
     "metadata": {},
     "output_type": "execute_result"
    }
   ],
   "source": [
    "vfs_1[0].params"
   ]
  },
  {
   "cell_type": "markdown",
   "metadata": {},
   "source": [
    "106.58909091199999, 113.321546176, 113.26535516799999"
   ]
  },
  {
   "cell_type": "code",
   "execution_count": 35,
   "metadata": {},
   "outputs": [
    {
     "name": "stderr",
     "output_type": "stream",
     "text": [
      "100% (100 of 100) |######################| Elapsed Time: 0:02:43 Time:  0:02:43\n"
     ]
    }
   ],
   "source": [
    "vfs_1 = adp_algorithm_final(loops_of_update=100, sample_size=2000, problem_setup = problem_setup)"
   ]
  },
  {
   "cell_type": "code",
   "execution_count": 36,
   "metadata": {},
   "outputs": [
    {
     "data": {
      "text/plain": [
       "array([106.69024172, 113.28469842, 113.22032903])"
      ]
     },
     "execution_count": 36,
     "metadata": {},
     "output_type": "execute_result"
    }
   ],
   "source": [
    "vfs_1[0].params"
   ]
  },
  {
   "cell_type": "markdown",
   "metadata": {},
   "source": [
    "106.58909091199999, 113.321546176, 113.26535516799999"
   ]
  },
  {
   "cell_type": "markdown",
   "metadata": {},
   "source": [
    "# Conclusion \n",
    "- I have implemented the ADP algorithm on the simple example. \n",
    "- We can see that the approximation is really good in this example. The implementation is working. \n",
    "- This investigation will help with the implementation of the actual problem in the next phase. \n",
    "    - The complexity will rise significantly, each of the steps will be somehow harder and the computational complexity will rise too. Nevertheless, the framework is ready to be used. "
   ]
  }
 ],
 "metadata": {
  "kernelspec": {
   "display_name": "Python 3",
   "language": "python",
   "name": "python3"
  },
  "language_info": {
   "codemirror_mode": {
    "name": "ipython",
    "version": 3
   },
   "file_extension": ".py",
   "mimetype": "text/x-python",
   "name": "python",
   "nbconvert_exporter": "python",
   "pygments_lexer": "ipython3",
   "version": "3.8.5"
  }
 },
 "nbformat": 4,
 "nbformat_minor": 4
}
