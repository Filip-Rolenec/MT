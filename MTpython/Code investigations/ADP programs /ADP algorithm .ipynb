{
 "cells": [
  {
   "cell_type": "markdown",
   "metadata": {},
   "source": [
    "# ADP algorihtm \n",
    "- The goal of this file is to first learn how does the ADP work on a simple example and then use it to solve the problem of gas power plant valuation. \n",
    "\n",
    "- First, I will setup a simple example of three states and two actions. Each of the two actions changes the probability distributions of results and \"costs\" some reward. \n",
    "    - I will compute the optimal strategy for this example with real dynamic programming and then with the approximative dynamic programming. \n",
    "    - I will make heuristic strategies as well. "
   ]
  },
  {
   "cell_type": "code",
   "execution_count": 1,
   "metadata": {},
   "outputs": [],
   "source": [
    "import numpy as np"
   ]
  },
  {
   "cell_type": "code",
   "execution_count": 2,
   "metadata": {},
   "outputs": [],
   "source": [
    "def get_action_from_strategy(strategy, state, time_epoch): \n",
    "    return(strategy(state, time_epoch))"
   ]
  },
  {
   "cell_type": "code",
   "execution_count": 3,
   "metadata": {},
   "outputs": [],
   "source": [
    "def heuristic_strategy_1(state, time_epoch): \n",
    "    return(1)"
   ]
  },
  {
   "cell_type": "code",
   "execution_count": 4,
   "metadata": {},
   "outputs": [],
   "source": [
    "def heuristic_strategy_0(state, time_epoch): \n",
    "    return(2)"
   ]
  },
  {
   "cell_type": "code",
   "execution_count": 5,
   "metadata": {},
   "outputs": [],
   "source": [
    "def heuristic_strategy_2(state, time_epoch): \n",
    "    return(np.random.choice(np.arange(1, 3), p=[0.5,0.5]))"
   ]
  },
  {
   "cell_type": "code",
   "execution_count": 6,
   "metadata": {},
   "outputs": [],
   "source": [
    "def optimal_strategy(state, time_epoch): \n",
    "    if state == 2: \n",
    "        return 1\n",
    "    else: \n",
    "        return 2"
   ]
  },
  {
   "cell_type": "markdown",
   "metadata": {},
   "source": [
    "## Three states two actions"
   ]
  },
  {
   "cell_type": "code",
   "execution_count": 7,
   "metadata": {},
   "outputs": [],
   "source": [
    "prob_matrix = [[[0.3,0.4,0.3],[0.1,0.2,0.7]],\n",
    "               [[0.2,0.2,0.6],[0.5,0.5,0]],\n",
    "               [[0.3,0.1,0.6],[0.3,0.4,0.3]]]"
   ]
  },
  {
   "cell_type": "code",
   "execution_count": 8,
   "metadata": {},
   "outputs": [],
   "source": [
    "reward_matrix = [[[2,5,3],[4,2,8]],\n",
    "               [[12,15,14],[8,-3,3]],\n",
    "               [[2,7,-4],[10,18,14]]]"
   ]
  },
  {
   "cell_type": "code",
   "execution_count": 9,
   "metadata": {},
   "outputs": [],
   "source": [
    "prev_state = 2\n",
    "action = 1"
   ]
  },
  {
   "cell_type": "code",
   "execution_count": 10,
   "metadata": {},
   "outputs": [
    {
     "data": {
      "text/plain": [
       "[0.2, 0.2, 0.6]"
      ]
     },
     "execution_count": 10,
     "metadata": {},
     "output_type": "execute_result"
    }
   ],
   "source": [
    "prob_matrix[prev_state-1][action-1]"
   ]
  },
  {
   "cell_type": "code",
   "execution_count": 11,
   "metadata": {},
   "outputs": [],
   "source": [
    "time_epochs = 10 "
   ]
  },
  {
   "cell_type": "code",
   "execution_count": 12,
   "metadata": {},
   "outputs": [],
   "source": [
    "def get_new_state(state, action): \n",
    "    return(np.random.choice(np.arange(1, 4), p=prob_matrix[state-1][action-1]))"
   ]
  },
  {
   "cell_type": "code",
   "execution_count": null,
   "metadata": {},
   "outputs": [],
   "source": []
  },
  {
   "cell_type": "code",
   "execution_count": 13,
   "metadata": {},
   "outputs": [],
   "source": [
    "def run_simulation(strategy): \n",
    "    state = 1\n",
    "    reward = 0 \n",
    "    for epoch in range(time_epochs): \n",
    "        \n",
    "        action = get_action_from_strategy(strategy, state, epoch)\n",
    "        new_state = get_new_state(state, action)\n",
    "        reward += reward_matrix[state-1][action-1][new_state-1]\n",
    "        \n",
    "#         print(action)\n",
    "#         print(new_state)\n",
    "#         print(reward_matrix[state-1][action-1][new_state-1])\n",
    "#         print()\n",
    "        state = new_state\n",
    "        \n",
    "    return(reward)"
   ]
  },
  {
   "cell_type": "code",
   "execution_count": null,
   "metadata": {},
   "outputs": [],
   "source": []
  },
  {
   "cell_type": "code",
   "execution_count": 14,
   "metadata": {},
   "outputs": [],
   "source": [
    "strategies = [heuristic_strategy_0, \n",
    "              heuristic_strategy_1, \n",
    "              heuristic_strategy_2, \n",
    "              optimal_strategy]"
   ]
  },
  {
   "cell_type": "code",
   "execution_count": 15,
   "metadata": {},
   "outputs": [
    {
     "data": {
      "text/plain": [
       "118"
      ]
     },
     "execution_count": 15,
     "metadata": {},
     "output_type": "execute_result"
    }
   ],
   "source": [
    "run_simulation(optimal_strategy)"
   ]
  },
  {
   "cell_type": "code",
   "execution_count": 16,
   "metadata": {},
   "outputs": [],
   "source": [
    "all_results = {}\n",
    "\n",
    "for strategy in strategies: \n",
    "    strategy_results = {}\n",
    "    for i in range(10000): \n",
    "        strategy_results[i] = run_simulation(strategy)\n",
    "            \n",
    "    all_results[strategy.__name__] = strategy_results "
   ]
  },
  {
   "cell_type": "code",
   "execution_count": 17,
   "metadata": {},
   "outputs": [],
   "source": [
    "import matplotlib.pyplot as plt \n"
   ]
  },
  {
   "cell_type": "code",
   "execution_count": 18,
   "metadata": {},
   "outputs": [
    {
     "data": {
      "text/plain": [
       "<matplotlib.legend.Legend at 0x10eca9a60>"
      ]
     },
     "execution_count": 18,
     "metadata": {},
     "output_type": "execute_result"
    },
    {
     "data": {
      "image/png": "[encoded data removed]",
      "text/plain": [
       "<Figure size 432x288 with 1 Axes>"
      ]
     },
     "metadata": {
      "needs_background": "light"
     },
     "output_type": "display_data"
    }
   ],
   "source": [
    "for strategy in strategies: \n",
    "    plt.hist(all_results[strategy.__name__].values(), label =strategy.__name__)\n",
    "plt.legend()"
   ]
  },
  {
   "cell_type": "code",
   "execution_count": 19,
   "metadata": {},
   "outputs": [
    {
     "name": "stdout",
     "output_type": "stream",
     "text": [
      "76.7402\n",
      "35.4212\n",
      "64.2866\n",
      "118.929\n"
     ]
    }
   ],
   "source": [
    "for strategy in strategies: \n",
    "    print(np.mean(list(all_results[strategy.__name__].values())))"
   ]
  },
  {
   "cell_type": "markdown",
   "metadata": {},
   "source": [
    "## Now we have some idea what is going on\n",
    "- We need to setup a dynamic program to obtain the best strategy. "
   ]
  },
  {
   "cell_type": "code",
   "execution_count": 20,
   "metadata": {},
   "outputs": [],
   "source": [
    "horizon_vf = [0,0,0]"
   ]
  },
  {
   "cell_type": "code",
   "execution_count": 21,
   "metadata": {},
   "outputs": [
    {
     "data": {
      "text/plain": [
       "[[0.3, 0.4, 0.3], [0.1, 0.2, 0.7]]"
      ]
     },
     "execution_count": 21,
     "metadata": {},
     "output_type": "execute_result"
    }
   ],
   "source": [
    "prob_matrix[0]"
   ]
  },
  {
   "cell_type": "code",
   "execution_count": 22,
   "metadata": {},
   "outputs": [
    {
     "name": "stdout",
     "output_type": "stream",
     "text": [
      "0\n",
      "1\n",
      "2\n",
      "0\n",
      "1\n",
      "2\n",
      "0\n",
      "1\n",
      "2\n",
      "0\n",
      "1\n",
      "2\n",
      "0\n",
      "1\n",
      "2\n",
      "0\n",
      "1\n",
      "2\n",
      "0\n",
      "1\n",
      "2\n",
      "0\n",
      "1\n",
      "2\n",
      "0\n",
      "1\n",
      "2\n",
      "0\n",
      "1\n",
      "2\n"
     ]
    }
   ],
   "source": [
    "vf = {}\n",
    "vf_prev_epoch = horizon_vf\n",
    "\n",
    "strategy = {} \n",
    "for epoch in range(time_epochs): \n",
    "    vf_epoch = []\n",
    "    epoch_strategy = {} \n",
    "    for state in range(3): \n",
    "        print(state)\n",
    "        \n",
    "        \n",
    "        exp_1 = sum([i*j for i,j in zip(prob_matrix[state][0], [i+j for i,j in zip(reward_matrix[state][0], vf_prev_epoch)])]) \n",
    "        exp_2 = sum([i*j for i,j in zip(prob_matrix[state][1], [i+j for i,j in zip(reward_matrix[state][1], vf_prev_epoch)])])\n",
    "#         print(exp_1)\n",
    "#         print(exp_2)\n",
    "#         print()\n",
    "        \n",
    "        epoch_strategy[state+1] = np.argmax([exp_1, exp_2])+1\n",
    "        vf_epoch.append(np.max([exp_1, exp_2]))\n",
    "    vf_prev_epoch = vf_epoch\n",
    "    vf[time_epochs - epoch-1] = vf_epoch\n",
    "    strategy[time_epochs - epoch-1] = epoch_strategy"
   ]
  },
  {
   "cell_type": "code",
   "execution_count": 23,
   "metadata": {},
   "outputs": [
    {
     "data": {
      "text/plain": [
       "{9: [6.3999999999999995, 13.8, 14.399999999999999],\n",
       " 8: [19.88, 26.48, 26.16],\n",
       " 7: [31.995999999999995, 38.768, 38.804],\n",
       " 6: [44.516, 51.2352, 51.1472],\n",
       " 5: [56.90168, 63.63856, 63.593039999999995],\n",
       " 4: [69.333008, 76.063872, 76.00384],\n",
       " 3: [81.7487632, 88.48168, 88.4266032],\n",
       " 2: [94.16983456, 100.90205055999999, 100.84528191999999],\n",
       " 1: [106.58909091199999, 113.321546176, 113.26535516799999],\n",
       " 0: [119.00896694399998, 125.7413405184, 125.6849522944]}"
      ]
     },
     "execution_count": 23,
     "metadata": {},
     "output_type": "execute_result"
    }
   ],
   "source": [
    "vf"
   ]
  },
  {
   "cell_type": "code",
   "execution_count": 24,
   "metadata": {},
   "outputs": [
    {
     "data": {
      "text/plain": [
       "{9: {1: 2, 2: 1, 3: 2},\n",
       " 8: {1: 2, 2: 1, 3: 2},\n",
       " 7: {1: 2, 2: 1, 3: 2},\n",
       " 6: {1: 2, 2: 1, 3: 2},\n",
       " 5: {1: 2, 2: 1, 3: 2},\n",
       " 4: {1: 2, 2: 1, 3: 2},\n",
       " 3: {1: 2, 2: 1, 3: 2},\n",
       " 2: {1: 2, 2: 1, 3: 2},\n",
       " 1: {1: 2, 2: 1, 3: 2},\n",
       " 0: {1: 2, 2: 1, 3: 2}}"
      ]
     },
     "execution_count": 24,
     "metadata": {},
     "output_type": "execute_result"
    }
   ],
   "source": [
    "strategy"
   ]
  },
  {
   "cell_type": "code",
   "execution_count": 25,
   "metadata": {},
   "outputs": [],
   "source": [
    "def optimal_strategy(state, time_epoch): \n",
    "    if time_epoch <4 and state ==1: \n",
    "        return 1\n",
    "    else: \n",
    "        return 2"
   ]
  },
  {
   "cell_type": "code",
   "execution_count": 26,
   "metadata": {},
   "outputs": [
    {
     "data": {
      "text/plain": [
       "[2, 5, 3]"
      ]
     },
     "execution_count": 26,
     "metadata": {},
     "output_type": "execute_result"
    }
   ],
   "source": [
    "[i+j for i,j in zip(reward_matrix[0][0], horizon_vf)]"
   ]
  },
  {
   "cell_type": "code",
   "execution_count": 27,
   "metadata": {},
   "outputs": [
    {
     "data": {
      "text/plain": [
       "3.5"
      ]
     },
     "execution_count": 27,
     "metadata": {},
     "output_type": "execute_result"
    }
   ],
   "source": [
    "sum([i*j for i,j in zip(prob_matrix[1-1][0], reward_matrix[0][0])])"
   ]
  },
  {
   "cell_type": "code",
   "execution_count": 28,
   "metadata": {},
   "outputs": [
    {
     "data": {
      "text/plain": [
       "[[2, 5, 3], [4, 2, 8]]"
      ]
     },
     "execution_count": 28,
     "metadata": {},
     "output_type": "execute_result"
    }
   ],
   "source": [
    "reward_matrix[0]"
   ]
  },
  {
   "cell_type": "code",
   "execution_count": null,
   "metadata": {},
   "outputs": [],
   "source": []
  }
 ],
 "metadata": {
  "kernelspec": {
   "display_name": "Python 3",
   "language": "python",
   "name": "python3"
  },
  "language_info": {
   "codemirror_mode": {
    "name": "ipython",
    "version": 3
   },
   "file_extension": ".py",
   "mimetype": "text/x-python",
   "name": "python",
   "nbconvert_exporter": "python",
   "pygments_lexer": "ipython3",
   "version": "3.8.5"
  }
 },
 "nbformat": 4,
 "nbformat_minor": 4
}
